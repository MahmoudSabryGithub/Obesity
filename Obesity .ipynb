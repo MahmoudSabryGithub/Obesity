{
 "cells": [
  {
   "cell_type": "markdown",
   "id": "331d3485",
   "metadata": {},
   "source": [
    "# Importing Libiraries"
   ]
  },
  {
   "cell_type": "code",
   "execution_count": 1,
   "id": "d4d44693",
   "metadata": {},
   "outputs": [],
   "source": [
    "from numpy import *\n",
    "from pandas import *\n",
    "import matplotlib.pyplot as plt\n",
    "import seaborn as snp"
   ]
  },
  {
   "cell_type": "markdown",
   "id": "a9ff16d4",
   "metadata": {},
   "source": [
    "# Loading Data"
   ]
  },
  {
   "cell_type": "code",
   "execution_count": 2,
   "id": "ef779cad",
   "metadata": {},
   "outputs": [],
   "source": [
    "data=read_csv(r\"C:\\Users\\DELL\\Downloads\\archive (28)\\ObesityDataSet.csv\")"
   ]
  },
  {
   "cell_type": "code",
   "execution_count": 3,
   "id": "8580f7ea",
   "metadata": {},
   "outputs": [
    {
     "data": {
      "text/html": [
       "<div>\n",
       "<style scoped>\n",
       "    .dataframe tbody tr th:only-of-type {\n",
       "        vertical-align: middle;\n",
       "    }\n",
       "\n",
       "    .dataframe tbody tr th {\n",
       "        vertical-align: top;\n",
       "    }\n",
       "\n",
       "    .dataframe thead th {\n",
       "        text-align: right;\n",
       "    }\n",
       "</style>\n",
       "<table border=\"1\" class=\"dataframe\">\n",
       "  <thead>\n",
       "    <tr style=\"text-align: right;\">\n",
       "      <th></th>\n",
       "      <th>Gender</th>\n",
       "      <th>Age</th>\n",
       "      <th>Height</th>\n",
       "      <th>Weight</th>\n",
       "      <th>family_history_with_overweight</th>\n",
       "      <th>FAVC</th>\n",
       "      <th>FCVC</th>\n",
       "      <th>NCP</th>\n",
       "      <th>CAEC</th>\n",
       "      <th>SMOKE</th>\n",
       "      <th>CH2O</th>\n",
       "      <th>SCC</th>\n",
       "      <th>FAF</th>\n",
       "      <th>TUE</th>\n",
       "      <th>CALC</th>\n",
       "      <th>MTRANS</th>\n",
       "      <th>NObeyesdad</th>\n",
       "    </tr>\n",
       "  </thead>\n",
       "  <tbody>\n",
       "    <tr>\n",
       "      <th>0</th>\n",
       "      <td>Female</td>\n",
       "      <td>21.0</td>\n",
       "      <td>1.62</td>\n",
       "      <td>64.0</td>\n",
       "      <td>yes</td>\n",
       "      <td>no</td>\n",
       "      <td>2.0</td>\n",
       "      <td>3.0</td>\n",
       "      <td>Sometimes</td>\n",
       "      <td>no</td>\n",
       "      <td>2.0</td>\n",
       "      <td>no</td>\n",
       "      <td>0.0</td>\n",
       "      <td>1.0</td>\n",
       "      <td>no</td>\n",
       "      <td>Public_Transportation</td>\n",
       "      <td>Normal_Weight</td>\n",
       "    </tr>\n",
       "    <tr>\n",
       "      <th>1</th>\n",
       "      <td>Female</td>\n",
       "      <td>21.0</td>\n",
       "      <td>1.52</td>\n",
       "      <td>56.0</td>\n",
       "      <td>yes</td>\n",
       "      <td>no</td>\n",
       "      <td>3.0</td>\n",
       "      <td>3.0</td>\n",
       "      <td>Sometimes</td>\n",
       "      <td>yes</td>\n",
       "      <td>3.0</td>\n",
       "      <td>yes</td>\n",
       "      <td>3.0</td>\n",
       "      <td>0.0</td>\n",
       "      <td>Sometimes</td>\n",
       "      <td>Public_Transportation</td>\n",
       "      <td>Normal_Weight</td>\n",
       "    </tr>\n",
       "    <tr>\n",
       "      <th>2</th>\n",
       "      <td>Male</td>\n",
       "      <td>23.0</td>\n",
       "      <td>1.80</td>\n",
       "      <td>77.0</td>\n",
       "      <td>yes</td>\n",
       "      <td>no</td>\n",
       "      <td>2.0</td>\n",
       "      <td>3.0</td>\n",
       "      <td>Sometimes</td>\n",
       "      <td>no</td>\n",
       "      <td>2.0</td>\n",
       "      <td>no</td>\n",
       "      <td>2.0</td>\n",
       "      <td>1.0</td>\n",
       "      <td>Frequently</td>\n",
       "      <td>Public_Transportation</td>\n",
       "      <td>Normal_Weight</td>\n",
       "    </tr>\n",
       "    <tr>\n",
       "      <th>3</th>\n",
       "      <td>Male</td>\n",
       "      <td>27.0</td>\n",
       "      <td>1.80</td>\n",
       "      <td>87.0</td>\n",
       "      <td>no</td>\n",
       "      <td>no</td>\n",
       "      <td>3.0</td>\n",
       "      <td>3.0</td>\n",
       "      <td>Sometimes</td>\n",
       "      <td>no</td>\n",
       "      <td>2.0</td>\n",
       "      <td>no</td>\n",
       "      <td>2.0</td>\n",
       "      <td>0.0</td>\n",
       "      <td>Frequently</td>\n",
       "      <td>Walking</td>\n",
       "      <td>Overweight_Level_I</td>\n",
       "    </tr>\n",
       "    <tr>\n",
       "      <th>4</th>\n",
       "      <td>Male</td>\n",
       "      <td>22.0</td>\n",
       "      <td>1.78</td>\n",
       "      <td>89.8</td>\n",
       "      <td>no</td>\n",
       "      <td>no</td>\n",
       "      <td>2.0</td>\n",
       "      <td>1.0</td>\n",
       "      <td>Sometimes</td>\n",
       "      <td>no</td>\n",
       "      <td>2.0</td>\n",
       "      <td>no</td>\n",
       "      <td>0.0</td>\n",
       "      <td>0.0</td>\n",
       "      <td>Sometimes</td>\n",
       "      <td>Public_Transportation</td>\n",
       "      <td>Overweight_Level_II</td>\n",
       "    </tr>\n",
       "  </tbody>\n",
       "</table>\n",
       "</div>"
      ],
      "text/plain": [
       "   Gender   Age  Height  Weight family_history_with_overweight FAVC  FCVC  \\\n",
       "0  Female  21.0    1.62    64.0                            yes   no   2.0   \n",
       "1  Female  21.0    1.52    56.0                            yes   no   3.0   \n",
       "2    Male  23.0    1.80    77.0                            yes   no   2.0   \n",
       "3    Male  27.0    1.80    87.0                             no   no   3.0   \n",
       "4    Male  22.0    1.78    89.8                             no   no   2.0   \n",
       "\n",
       "   NCP       CAEC SMOKE  CH2O  SCC  FAF  TUE        CALC  \\\n",
       "0  3.0  Sometimes    no   2.0   no  0.0  1.0          no   \n",
       "1  3.0  Sometimes   yes   3.0  yes  3.0  0.0   Sometimes   \n",
       "2  3.0  Sometimes    no   2.0   no  2.0  1.0  Frequently   \n",
       "3  3.0  Sometimes    no   2.0   no  2.0  0.0  Frequently   \n",
       "4  1.0  Sometimes    no   2.0   no  0.0  0.0   Sometimes   \n",
       "\n",
       "                  MTRANS           NObeyesdad  \n",
       "0  Public_Transportation        Normal_Weight  \n",
       "1  Public_Transportation        Normal_Weight  \n",
       "2  Public_Transportation        Normal_Weight  \n",
       "3                Walking   Overweight_Level_I  \n",
       "4  Public_Transportation  Overweight_Level_II  "
      ]
     },
     "execution_count": 3,
     "metadata": {},
     "output_type": "execute_result"
    }
   ],
   "source": [
    "data.head()"
   ]
  },
  {
   "cell_type": "code",
   "execution_count": 4,
   "id": "5ee074ef",
   "metadata": {},
   "outputs": [
    {
     "name": "stdout",
     "output_type": "stream",
     "text": [
      "<class 'pandas.core.frame.DataFrame'>\n",
      "RangeIndex: 2111 entries, 0 to 2110\n",
      "Data columns (total 17 columns):\n",
      " #   Column                          Non-Null Count  Dtype  \n",
      "---  ------                          --------------  -----  \n",
      " 0   Gender                          2111 non-null   object \n",
      " 1   Age                             2111 non-null   float64\n",
      " 2   Height                          2111 non-null   float64\n",
      " 3   Weight                          2111 non-null   float64\n",
      " 4   family_history_with_overweight  2111 non-null   object \n",
      " 5   FAVC                            2111 non-null   object \n",
      " 6   FCVC                            2111 non-null   float64\n",
      " 7   NCP                             2111 non-null   float64\n",
      " 8   CAEC                            2111 non-null   object \n",
      " 9   SMOKE                           2111 non-null   object \n",
      " 10  CH2O                            2111 non-null   float64\n",
      " 11  SCC                             2111 non-null   object \n",
      " 12  FAF                             2111 non-null   float64\n",
      " 13  TUE                             2111 non-null   float64\n",
      " 14  CALC                            2111 non-null   object \n",
      " 15  MTRANS                          2111 non-null   object \n",
      " 16  NObeyesdad                      2111 non-null   object \n",
      "dtypes: float64(8), object(9)\n",
      "memory usage: 280.5+ KB\n"
     ]
    }
   ],
   "source": [
    "data.info()"
   ]
  },
  {
   "cell_type": "code",
   "execution_count": 5,
   "id": "5eaf3f87",
   "metadata": {
    "scrolled": true
   },
   "outputs": [
    {
     "data": {
      "text/html": [
       "<div>\n",
       "<style scoped>\n",
       "    .dataframe tbody tr th:only-of-type {\n",
       "        vertical-align: middle;\n",
       "    }\n",
       "\n",
       "    .dataframe tbody tr th {\n",
       "        vertical-align: top;\n",
       "    }\n",
       "\n",
       "    .dataframe thead th {\n",
       "        text-align: right;\n",
       "    }\n",
       "</style>\n",
       "<table border=\"1\" class=\"dataframe\">\n",
       "  <thead>\n",
       "    <tr style=\"text-align: right;\">\n",
       "      <th></th>\n",
       "      <th>count</th>\n",
       "      <th>mean</th>\n",
       "      <th>std</th>\n",
       "      <th>min</th>\n",
       "      <th>25%</th>\n",
       "      <th>50%</th>\n",
       "      <th>75%</th>\n",
       "      <th>max</th>\n",
       "    </tr>\n",
       "  </thead>\n",
       "  <tbody>\n",
       "    <tr>\n",
       "      <th>Age</th>\n",
       "      <td>2111.0</td>\n",
       "      <td>24.312600</td>\n",
       "      <td>6.345968</td>\n",
       "      <td>14.00</td>\n",
       "      <td>19.947192</td>\n",
       "      <td>22.777890</td>\n",
       "      <td>26.000000</td>\n",
       "      <td>61.00</td>\n",
       "    </tr>\n",
       "    <tr>\n",
       "      <th>Height</th>\n",
       "      <td>2111.0</td>\n",
       "      <td>1.701677</td>\n",
       "      <td>0.093305</td>\n",
       "      <td>1.45</td>\n",
       "      <td>1.630000</td>\n",
       "      <td>1.700499</td>\n",
       "      <td>1.768464</td>\n",
       "      <td>1.98</td>\n",
       "    </tr>\n",
       "    <tr>\n",
       "      <th>Weight</th>\n",
       "      <td>2111.0</td>\n",
       "      <td>86.586058</td>\n",
       "      <td>26.191172</td>\n",
       "      <td>39.00</td>\n",
       "      <td>65.473343</td>\n",
       "      <td>83.000000</td>\n",
       "      <td>107.430682</td>\n",
       "      <td>173.00</td>\n",
       "    </tr>\n",
       "    <tr>\n",
       "      <th>FCVC</th>\n",
       "      <td>2111.0</td>\n",
       "      <td>2.419043</td>\n",
       "      <td>0.533927</td>\n",
       "      <td>1.00</td>\n",
       "      <td>2.000000</td>\n",
       "      <td>2.385502</td>\n",
       "      <td>3.000000</td>\n",
       "      <td>3.00</td>\n",
       "    </tr>\n",
       "    <tr>\n",
       "      <th>NCP</th>\n",
       "      <td>2111.0</td>\n",
       "      <td>2.685628</td>\n",
       "      <td>0.778039</td>\n",
       "      <td>1.00</td>\n",
       "      <td>2.658738</td>\n",
       "      <td>3.000000</td>\n",
       "      <td>3.000000</td>\n",
       "      <td>4.00</td>\n",
       "    </tr>\n",
       "    <tr>\n",
       "      <th>CH2O</th>\n",
       "      <td>2111.0</td>\n",
       "      <td>2.008011</td>\n",
       "      <td>0.612953</td>\n",
       "      <td>1.00</td>\n",
       "      <td>1.584812</td>\n",
       "      <td>2.000000</td>\n",
       "      <td>2.477420</td>\n",
       "      <td>3.00</td>\n",
       "    </tr>\n",
       "    <tr>\n",
       "      <th>FAF</th>\n",
       "      <td>2111.0</td>\n",
       "      <td>1.010298</td>\n",
       "      <td>0.850592</td>\n",
       "      <td>0.00</td>\n",
       "      <td>0.124505</td>\n",
       "      <td>1.000000</td>\n",
       "      <td>1.666678</td>\n",
       "      <td>3.00</td>\n",
       "    </tr>\n",
       "    <tr>\n",
       "      <th>TUE</th>\n",
       "      <td>2111.0</td>\n",
       "      <td>0.657866</td>\n",
       "      <td>0.608927</td>\n",
       "      <td>0.00</td>\n",
       "      <td>0.000000</td>\n",
       "      <td>0.625350</td>\n",
       "      <td>1.000000</td>\n",
       "      <td>2.00</td>\n",
       "    </tr>\n",
       "  </tbody>\n",
       "</table>\n",
       "</div>"
      ],
      "text/plain": [
       "         count       mean        std    min        25%        50%         75%  \\\n",
       "Age     2111.0  24.312600   6.345968  14.00  19.947192  22.777890   26.000000   \n",
       "Height  2111.0   1.701677   0.093305   1.45   1.630000   1.700499    1.768464   \n",
       "Weight  2111.0  86.586058  26.191172  39.00  65.473343  83.000000  107.430682   \n",
       "FCVC    2111.0   2.419043   0.533927   1.00   2.000000   2.385502    3.000000   \n",
       "NCP     2111.0   2.685628   0.778039   1.00   2.658738   3.000000    3.000000   \n",
       "CH2O    2111.0   2.008011   0.612953   1.00   1.584812   2.000000    2.477420   \n",
       "FAF     2111.0   1.010298   0.850592   0.00   0.124505   1.000000    1.666678   \n",
       "TUE     2111.0   0.657866   0.608927   0.00   0.000000   0.625350    1.000000   \n",
       "\n",
       "           max  \n",
       "Age      61.00  \n",
       "Height    1.98  \n",
       "Weight  173.00  \n",
       "FCVC      3.00  \n",
       "NCP       4.00  \n",
       "CH2O      3.00  \n",
       "FAF       3.00  \n",
       "TUE       2.00  "
      ]
     },
     "execution_count": 5,
     "metadata": {},
     "output_type": "execute_result"
    }
   ],
   "source": [
    "data.describe().T"
   ]
  },
  {
   "cell_type": "markdown",
   "id": "b8145c12",
   "metadata": {},
   "source": [
    "# Data Cleaning"
   ]
  },
  {
   "cell_type": "code",
   "execution_count": 6,
   "id": "fee6c5b1",
   "metadata": {},
   "outputs": [
    {
     "data": {
      "text/plain": [
       "Gender                            0\n",
       "Age                               0\n",
       "Height                            0\n",
       "Weight                            0\n",
       "family_history_with_overweight    0\n",
       "FAVC                              0\n",
       "FCVC                              0\n",
       "NCP                               0\n",
       "CAEC                              0\n",
       "SMOKE                             0\n",
       "CH2O                              0\n",
       "SCC                               0\n",
       "FAF                               0\n",
       "TUE                               0\n",
       "CALC                              0\n",
       "MTRANS                            0\n",
       "NObeyesdad                        0\n",
       "dtype: int64"
      ]
     },
     "execution_count": 6,
     "metadata": {},
     "output_type": "execute_result"
    }
   ],
   "source": [
    "data.isnull().sum() # Checking for null values"
   ]
  },
  {
   "cell_type": "code",
   "execution_count": 7,
   "id": "dc2bb181",
   "metadata": {},
   "outputs": [
    {
     "data": {
      "text/plain": [
       "24"
      ]
     },
     "execution_count": 7,
     "metadata": {},
     "output_type": "execute_result"
    }
   ],
   "source": [
    "data.duplicated().sum()  #Checking for duplicate values"
   ]
  },
  {
   "cell_type": "code",
   "execution_count": 8,
   "id": "5b36605d",
   "metadata": {},
   "outputs": [],
   "source": [
    "data=data.drop_duplicates()   # Dropping duplicate values"
   ]
  },
  {
   "cell_type": "code",
   "execution_count": 9,
   "id": "8c79ea76",
   "metadata": {},
   "outputs": [
    {
     "data": {
      "text/plain": [
       "(2087, 17)"
      ]
     },
     "execution_count": 9,
     "metadata": {},
     "output_type": "execute_result"
    }
   ],
   "source": [
    "data.shape"
   ]
  },
  {
   "cell_type": "code",
   "execution_count": 10,
   "id": "f81fc4eb",
   "metadata": {},
   "outputs": [
    {
     "name": "stdout",
     "output_type": "stream",
     "text": [
      "<class 'pandas.core.frame.DataFrame'>\n",
      "Int64Index: 2087 entries, 0 to 2110\n",
      "Data columns (total 17 columns):\n",
      " #   Column                          Non-Null Count  Dtype  \n",
      "---  ------                          --------------  -----  \n",
      " 0   Gender                          2087 non-null   object \n",
      " 1   Age                             2087 non-null   float64\n",
      " 2   Height                          2087 non-null   float64\n",
      " 3   Weight                          2087 non-null   float64\n",
      " 4   family_history_with_overweight  2087 non-null   object \n",
      " 5   FAVC                            2087 non-null   object \n",
      " 6   FCVC                            2087 non-null   float64\n",
      " 7   NCP                             2087 non-null   float64\n",
      " 8   CAEC                            2087 non-null   object \n",
      " 9   SMOKE                           2087 non-null   object \n",
      " 10  CH2O                            2087 non-null   float64\n",
      " 11  SCC                             2087 non-null   object \n",
      " 12  FAF                             2087 non-null   float64\n",
      " 13  TUE                             2087 non-null   float64\n",
      " 14  CALC                            2087 non-null   object \n",
      " 15  MTRANS                          2087 non-null   object \n",
      " 16  NObeyesdad                      2087 non-null   object \n",
      "dtypes: float64(8), object(9)\n",
      "memory usage: 293.5+ KB\n"
     ]
    }
   ],
   "source": [
    "data.info()"
   ]
  },
  {
   "cell_type": "markdown",
   "id": "a696c568",
   "metadata": {},
   "source": [
    "# EDA"
   ]
  },
  {
   "cell_type": "code",
   "execution_count": 11,
   "id": "c847fd33",
   "metadata": {},
   "outputs": [
    {
     "data": {
      "text/html": [
       "<div>\n",
       "<style scoped>\n",
       "    .dataframe tbody tr th:only-of-type {\n",
       "        vertical-align: middle;\n",
       "    }\n",
       "\n",
       "    .dataframe tbody tr th {\n",
       "        vertical-align: top;\n",
       "    }\n",
       "\n",
       "    .dataframe thead th {\n",
       "        text-align: right;\n",
       "    }\n",
       "</style>\n",
       "<table border=\"1\" class=\"dataframe\">\n",
       "  <thead>\n",
       "    <tr style=\"text-align: right;\">\n",
       "      <th></th>\n",
       "      <th>Age</th>\n",
       "      <th>Height</th>\n",
       "      <th>Weight</th>\n",
       "      <th>FCVC</th>\n",
       "      <th>NCP</th>\n",
       "      <th>CH2O</th>\n",
       "      <th>FAF</th>\n",
       "      <th>TUE</th>\n",
       "    </tr>\n",
       "  </thead>\n",
       "  <tbody>\n",
       "    <tr>\n",
       "      <th>count</th>\n",
       "      <td>2087.000000</td>\n",
       "      <td>2087.000000</td>\n",
       "      <td>2087.000000</td>\n",
       "      <td>2087.000000</td>\n",
       "      <td>2087.000000</td>\n",
       "      <td>2087.000000</td>\n",
       "      <td>2087.000000</td>\n",
       "      <td>2087.000000</td>\n",
       "    </tr>\n",
       "    <tr>\n",
       "      <th>mean</th>\n",
       "      <td>24.353090</td>\n",
       "      <td>1.702674</td>\n",
       "      <td>86.858730</td>\n",
       "      <td>2.421466</td>\n",
       "      <td>2.701179</td>\n",
       "      <td>2.004749</td>\n",
       "      <td>1.012812</td>\n",
       "      <td>0.663035</td>\n",
       "    </tr>\n",
       "    <tr>\n",
       "      <th>std</th>\n",
       "      <td>6.368801</td>\n",
       "      <td>0.093186</td>\n",
       "      <td>26.190847</td>\n",
       "      <td>0.534737</td>\n",
       "      <td>0.764614</td>\n",
       "      <td>0.608284</td>\n",
       "      <td>0.853475</td>\n",
       "      <td>0.608153</td>\n",
       "    </tr>\n",
       "    <tr>\n",
       "      <th>min</th>\n",
       "      <td>14.000000</td>\n",
       "      <td>1.450000</td>\n",
       "      <td>39.000000</td>\n",
       "      <td>1.000000</td>\n",
       "      <td>1.000000</td>\n",
       "      <td>1.000000</td>\n",
       "      <td>0.000000</td>\n",
       "      <td>0.000000</td>\n",
       "    </tr>\n",
       "    <tr>\n",
       "      <th>25%</th>\n",
       "      <td>19.915937</td>\n",
       "      <td>1.630178</td>\n",
       "      <td>66.000000</td>\n",
       "      <td>2.000000</td>\n",
       "      <td>2.697467</td>\n",
       "      <td>1.590922</td>\n",
       "      <td>0.124505</td>\n",
       "      <td>0.000000</td>\n",
       "    </tr>\n",
       "    <tr>\n",
       "      <th>50%</th>\n",
       "      <td>22.847618</td>\n",
       "      <td>1.701584</td>\n",
       "      <td>83.101100</td>\n",
       "      <td>2.396265</td>\n",
       "      <td>3.000000</td>\n",
       "      <td>2.000000</td>\n",
       "      <td>1.000000</td>\n",
       "      <td>0.630866</td>\n",
       "    </tr>\n",
       "    <tr>\n",
       "      <th>75%</th>\n",
       "      <td>26.000000</td>\n",
       "      <td>1.769491</td>\n",
       "      <td>108.015907</td>\n",
       "      <td>3.000000</td>\n",
       "      <td>3.000000</td>\n",
       "      <td>2.466193</td>\n",
       "      <td>1.678102</td>\n",
       "      <td>1.000000</td>\n",
       "    </tr>\n",
       "    <tr>\n",
       "      <th>max</th>\n",
       "      <td>61.000000</td>\n",
       "      <td>1.980000</td>\n",
       "      <td>173.000000</td>\n",
       "      <td>3.000000</td>\n",
       "      <td>4.000000</td>\n",
       "      <td>3.000000</td>\n",
       "      <td>3.000000</td>\n",
       "      <td>2.000000</td>\n",
       "    </tr>\n",
       "  </tbody>\n",
       "</table>\n",
       "</div>"
      ],
      "text/plain": [
       "               Age       Height       Weight         FCVC          NCP  \\\n",
       "count  2087.000000  2087.000000  2087.000000  2087.000000  2087.000000   \n",
       "mean     24.353090     1.702674    86.858730     2.421466     2.701179   \n",
       "std       6.368801     0.093186    26.190847     0.534737     0.764614   \n",
       "min      14.000000     1.450000    39.000000     1.000000     1.000000   \n",
       "25%      19.915937     1.630178    66.000000     2.000000     2.697467   \n",
       "50%      22.847618     1.701584    83.101100     2.396265     3.000000   \n",
       "75%      26.000000     1.769491   108.015907     3.000000     3.000000   \n",
       "max      61.000000     1.980000   173.000000     3.000000     4.000000   \n",
       "\n",
       "              CH2O          FAF          TUE  \n",
       "count  2087.000000  2087.000000  2087.000000  \n",
       "mean      2.004749     1.012812     0.663035  \n",
       "std       0.608284     0.853475     0.608153  \n",
       "min       1.000000     0.000000     0.000000  \n",
       "25%       1.590922     0.124505     0.000000  \n",
       "50%       2.000000     1.000000     0.630866  \n",
       "75%       2.466193     1.678102     1.000000  \n",
       "max       3.000000     3.000000     2.000000  "
      ]
     },
     "execution_count": 11,
     "metadata": {},
     "output_type": "execute_result"
    }
   ],
   "source": [
    "data.describe()"
   ]
  },
  {
   "cell_type": "code",
   "execution_count": 12,
   "id": "334c1acc",
   "metadata": {},
   "outputs": [
    {
     "data": {
      "text/plain": [
       "Gender                               2\n",
       "Age                               1402\n",
       "Height                            1574\n",
       "Weight                            1525\n",
       "family_history_with_overweight       2\n",
       "FAVC                                 2\n",
       "FCVC                               810\n",
       "NCP                                635\n",
       "CAEC                                 4\n",
       "SMOKE                                2\n",
       "CH2O                              1268\n",
       "SCC                                  2\n",
       "FAF                               1190\n",
       "TUE                               1129\n",
       "CALC                                 4\n",
       "MTRANS                               5\n",
       "NObeyesdad                           7\n",
       "dtype: int64"
      ]
     },
     "execution_count": 12,
     "metadata": {},
     "output_type": "execute_result"
    }
   ],
   "source": [
    "data.nunique()"
   ]
  },
  {
   "cell_type": "code",
   "execution_count": 13,
   "id": "cb69531f",
   "metadata": {},
   "outputs": [
    {
     "data": {
      "text/plain": [
       "Gender                             object\n",
       "Age                               float64\n",
       "Height                            float64\n",
       "Weight                            float64\n",
       "family_history_with_overweight     object\n",
       "FAVC                               object\n",
       "FCVC                              float64\n",
       "NCP                               float64\n",
       "CAEC                               object\n",
       "SMOKE                              object\n",
       "CH2O                              float64\n",
       "SCC                                object\n",
       "FAF                               float64\n",
       "TUE                               float64\n",
       "CALC                               object\n",
       "MTRANS                             object\n",
       "NObeyesdad                         object\n",
       "dtype: object"
      ]
     },
     "execution_count": 13,
     "metadata": {},
     "output_type": "execute_result"
    }
   ],
   "source": [
    "data.dtypes"
   ]
  },
  {
   "cell_type": "code",
   "execution_count": 14,
   "id": "6b1b9b86",
   "metadata": {},
   "outputs": [
    {
     "data": {
      "text/plain": [
       "Text(0.5, 1.0, 'Gender distribution')"
      ]
     },
     "execution_count": 14,
     "metadata": {},
     "output_type": "execute_result"
    },
    {
     "data": {
      "image/png": "[encoded data removed]",
      "text/plain": [
       "<Figure size 640x480 with 1 Axes>"
      ]
     },
     "metadata": {},
     "output_type": "display_data"
    }
   ],
   "source": [
    "data.groupby(\"Gender\").count()[\"Weight\"].plot(kind=\"pie\")\n",
    "plt.title(\"Gender distribution\")"
   ]
  },
  {
   "cell_type": "code",
   "execution_count": 15,
   "id": "1a7d6a19",
   "metadata": {},
   "outputs": [
    {
     "data": {
      "text/plain": [
       "Text(0, 0.5, 'AVG Weight')"
      ]
     },
     "execution_count": 15,
     "metadata": {},
     "output_type": "execute_result"
    },
    {
     "data": {
      "image/png": "[encoded data removed]",
      "text/plain": [
       "<Figure size 640x480 with 1 Axes>"
      ]
     },
     "metadata": {},
     "output_type": "display_data"
    }
   ],
   "source": [
    "data.groupby(\"Gender\").mean()[\"Weight\"].plot(kind=\"bar\",color=\"g\")\n",
    "plt.title(\"Avarage weight for each gender\")\n",
    "plt.ylabel(\"AVG Weight\")"
   ]
  },
  {
   "cell_type": "markdown",
   "id": "8e6fd4ee",
   "metadata": {},
   "source": [
    "##### Avarage weight for male is higher than in female"
   ]
  },
  {
   "cell_type": "code",
   "execution_count": 16,
   "id": "7b943b0f",
   "metadata": {},
   "outputs": [],
   "source": [
    "gender=data.groupby([\"Gender\",\"NObeyesdad\"]).count()[\"CALC\"] .to_frame() "
   ]
  },
  {
   "cell_type": "code",
   "execution_count": 17,
   "id": "8c151844",
   "metadata": {},
   "outputs": [
    {
     "data": {
      "text/html": [
       "<div>\n",
       "<style scoped>\n",
       "    .dataframe tbody tr th:only-of-type {\n",
       "        vertical-align: middle;\n",
       "    }\n",
       "\n",
       "    .dataframe tbody tr th {\n",
       "        vertical-align: top;\n",
       "    }\n",
       "\n",
       "    .dataframe thead th {\n",
       "        text-align: right;\n",
       "    }\n",
       "</style>\n",
       "<table border=\"1\" class=\"dataframe\">\n",
       "  <thead>\n",
       "    <tr style=\"text-align: right;\">\n",
       "      <th></th>\n",
       "      <th></th>\n",
       "      <th>CALC</th>\n",
       "    </tr>\n",
       "    <tr>\n",
       "      <th>Gender</th>\n",
       "      <th>NObeyesdad</th>\n",
       "      <th></th>\n",
       "    </tr>\n",
       "  </thead>\n",
       "  <tbody>\n",
       "    <tr>\n",
       "      <th rowspan=\"7\" valign=\"top\">Female</th>\n",
       "      <th>Insufficient_Weight</th>\n",
       "      <td>169</td>\n",
       "    </tr>\n",
       "    <tr>\n",
       "      <th>Normal_Weight</th>\n",
       "      <td>137</td>\n",
       "    </tr>\n",
       "    <tr>\n",
       "      <th>Obesity_Type_I</th>\n",
       "      <td>156</td>\n",
       "    </tr>\n",
       "    <tr>\n",
       "      <th>Obesity_Type_II</th>\n",
       "      <td>2</td>\n",
       "    </tr>\n",
       "    <tr>\n",
       "      <th>Obesity_Type_III</th>\n",
       "      <td>323</td>\n",
       "    </tr>\n",
       "    <tr>\n",
       "      <th>Overweight_Level_I</th>\n",
       "      <td>145</td>\n",
       "    </tr>\n",
       "    <tr>\n",
       "      <th>Overweight_Level_II</th>\n",
       "      <td>103</td>\n",
       "    </tr>\n",
       "    <tr>\n",
       "      <th rowspan=\"7\" valign=\"top\">Male</th>\n",
       "      <th>Insufficient_Weight</th>\n",
       "      <td>98</td>\n",
       "    </tr>\n",
       "    <tr>\n",
       "      <th>Normal_Weight</th>\n",
       "      <td>145</td>\n",
       "    </tr>\n",
       "    <tr>\n",
       "      <th>Obesity_Type_I</th>\n",
       "      <td>195</td>\n",
       "    </tr>\n",
       "    <tr>\n",
       "      <th>Obesity_Type_II</th>\n",
       "      <td>295</td>\n",
       "    </tr>\n",
       "    <tr>\n",
       "      <th>Obesity_Type_III</th>\n",
       "      <td>1</td>\n",
       "    </tr>\n",
       "    <tr>\n",
       "      <th>Overweight_Level_I</th>\n",
       "      <td>131</td>\n",
       "    </tr>\n",
       "    <tr>\n",
       "      <th>Overweight_Level_II</th>\n",
       "      <td>187</td>\n",
       "    </tr>\n",
       "  </tbody>\n",
       "</table>\n",
       "</div>"
      ],
      "text/plain": [
       "                            CALC\n",
       "Gender NObeyesdad               \n",
       "Female Insufficient_Weight   169\n",
       "       Normal_Weight         137\n",
       "       Obesity_Type_I        156\n",
       "       Obesity_Type_II         2\n",
       "       Obesity_Type_III      323\n",
       "       Overweight_Level_I    145\n",
       "       Overweight_Level_II   103\n",
       "Male   Insufficient_Weight    98\n",
       "       Normal_Weight         145\n",
       "       Obesity_Type_I        195\n",
       "       Obesity_Type_II       295\n",
       "       Obesity_Type_III        1\n",
       "       Overweight_Level_I    131\n",
       "       Overweight_Level_II   187"
      ]
     },
     "execution_count": 17,
     "metadata": {},
     "output_type": "execute_result"
    }
   ],
   "source": [
    "gender"
   ]
  },
  {
   "cell_type": "code",
   "execution_count": 18,
   "id": "57144fb0",
   "metadata": {
    "scrolled": true
   },
   "outputs": [
    {
     "data": {
      "text/plain": [
       "<AxesSubplot:xlabel='Gender,NObeyesdad'>"
      ]
     },
     "execution_count": 18,
     "metadata": {},
     "output_type": "execute_result"
    },
    {
     "data": {
      "image/png": "[encoded data removed]",
      "text/plain": [
       "<Figure size 640x480 with 1 Axes>"
      ]
     },
     "metadata": {},
     "output_type": "display_data"
    }
   ],
   "source": [
    "gender.plot(kind=\"bar\")"
   ]
  },
  {
   "cell_type": "markdown",
   "id": "02021b6d",
   "metadata": {},
   "source": [
    "##### There is no direct relation between gender and obesity "
   ]
  },
  {
   "cell_type": "code",
   "execution_count": 19,
   "id": "79e49a14",
   "metadata": {},
   "outputs": [
    {
     "data": {
      "text/plain": [
       "array(['yes', 'no'], dtype=object)"
      ]
     },
     "execution_count": 19,
     "metadata": {},
     "output_type": "execute_result"
    }
   ],
   "source": [
    "data[\"family_history_with_overweight\"].unique()"
   ]
  },
  {
   "cell_type": "code",
   "execution_count": 20,
   "id": "bf203c76",
   "metadata": {},
   "outputs": [
    {
     "data": {
      "text/plain": [
       "yes    1722\n",
       "no      365\n",
       "Name: family_history_with_overweight, dtype: int64"
      ]
     },
     "execution_count": 20,
     "metadata": {},
     "output_type": "execute_result"
    }
   ],
   "source": [
    "data[\"family_history_with_overweight\"].value_counts()"
   ]
  },
  {
   "cell_type": "code",
   "execution_count": 21,
   "id": "c5702e5a",
   "metadata": {},
   "outputs": [],
   "source": [
    "f_h=data.groupby([\"family_history_with_overweight\",\"NObeyesdad\"]).count()[\"Gender\"] .to_frame(\"Count\") "
   ]
  },
  {
   "cell_type": "code",
   "execution_count": 22,
   "id": "2cff71d2",
   "metadata": {},
   "outputs": [
    {
     "data": {
      "text/html": [
       "<div>\n",
       "<style scoped>\n",
       "    .dataframe tbody tr th:only-of-type {\n",
       "        vertical-align: middle;\n",
       "    }\n",
       "\n",
       "    .dataframe tbody tr th {\n",
       "        vertical-align: top;\n",
       "    }\n",
       "\n",
       "    .dataframe thead th {\n",
       "        text-align: right;\n",
       "    }\n",
       "</style>\n",
       "<table border=\"1\" class=\"dataframe\">\n",
       "  <thead>\n",
       "    <tr style=\"text-align: right;\">\n",
       "      <th></th>\n",
       "      <th></th>\n",
       "      <th>Count</th>\n",
       "    </tr>\n",
       "    <tr>\n",
       "      <th>family_history_with_overweight</th>\n",
       "      <th>NObeyesdad</th>\n",
       "      <th></th>\n",
       "    </tr>\n",
       "  </thead>\n",
       "  <tbody>\n",
       "    <tr>\n",
       "      <th rowspan=\"6\" valign=\"top\">no</th>\n",
       "      <th>Insufficient_Weight</th>\n",
       "      <td>142</td>\n",
       "    </tr>\n",
       "    <tr>\n",
       "      <th>Normal_Weight</th>\n",
       "      <td>130</td>\n",
       "    </tr>\n",
       "    <tr>\n",
       "      <th>Obesity_Type_I</th>\n",
       "      <td>7</td>\n",
       "    </tr>\n",
       "    <tr>\n",
       "      <th>Obesity_Type_II</th>\n",
       "      <td>1</td>\n",
       "    </tr>\n",
       "    <tr>\n",
       "      <th>Overweight_Level_I</th>\n",
       "      <td>67</td>\n",
       "    </tr>\n",
       "    <tr>\n",
       "      <th>Overweight_Level_II</th>\n",
       "      <td>18</td>\n",
       "    </tr>\n",
       "    <tr>\n",
       "      <th rowspan=\"7\" valign=\"top\">yes</th>\n",
       "      <th>Insufficient_Weight</th>\n",
       "      <td>125</td>\n",
       "    </tr>\n",
       "    <tr>\n",
       "      <th>Normal_Weight</th>\n",
       "      <td>152</td>\n",
       "    </tr>\n",
       "    <tr>\n",
       "      <th>Obesity_Type_I</th>\n",
       "      <td>344</td>\n",
       "    </tr>\n",
       "    <tr>\n",
       "      <th>Obesity_Type_II</th>\n",
       "      <td>296</td>\n",
       "    </tr>\n",
       "    <tr>\n",
       "      <th>Obesity_Type_III</th>\n",
       "      <td>324</td>\n",
       "    </tr>\n",
       "    <tr>\n",
       "      <th>Overweight_Level_I</th>\n",
       "      <td>209</td>\n",
       "    </tr>\n",
       "    <tr>\n",
       "      <th>Overweight_Level_II</th>\n",
       "      <td>272</td>\n",
       "    </tr>\n",
       "  </tbody>\n",
       "</table>\n",
       "</div>"
      ],
      "text/plain": [
       "                                                    Count\n",
       "family_history_with_overweight NObeyesdad                \n",
       "no                             Insufficient_Weight    142\n",
       "                               Normal_Weight          130\n",
       "                               Obesity_Type_I           7\n",
       "                               Obesity_Type_II          1\n",
       "                               Overweight_Level_I      67\n",
       "                               Overweight_Level_II     18\n",
       "yes                            Insufficient_Weight    125\n",
       "                               Normal_Weight          152\n",
       "                               Obesity_Type_I         344\n",
       "                               Obesity_Type_II        296\n",
       "                               Obesity_Type_III       324\n",
       "                               Overweight_Level_I     209\n",
       "                               Overweight_Level_II    272"
      ]
     },
     "execution_count": 22,
     "metadata": {},
     "output_type": "execute_result"
    }
   ],
   "source": [
    "f_h"
   ]
  },
  {
   "cell_type": "code",
   "execution_count": 23,
   "id": "ea1efd3a",
   "metadata": {},
   "outputs": [
    {
     "data": {
      "text/plain": [
       "Text(0, 0.5, 'Number of people')"
      ]
     },
     "execution_count": 23,
     "metadata": {},
     "output_type": "execute_result"
    },
    {
     "data": {
      "image/png": "[encoded data removed]",
      "text/plain": [
       "<Figure size 640x480 with 1 Axes>"
      ]
     },
     "metadata": {},
     "output_type": "display_data"
    }
   ],
   "source": [
    "f_h.plot(kind=\"bar\",color=\"g\")\n",
    "plt.ylabel(\"Number of people\")"
   ]
  },
  {
   "cell_type": "markdown",
   "id": "769ea940",
   "metadata": {},
   "source": [
    "##### Obesity affected by family history with over weight as showen on the previous plot"
   ]
  },
  {
   "cell_type": "code",
   "execution_count": 24,
   "id": "e3b42658",
   "metadata": {},
   "outputs": [],
   "source": [
    "smoke=data.groupby([\"SMOKE\",\"NObeyesdad\"]).count()[\"FAF\"] .to_frame(\"Count\")"
   ]
  },
  {
   "cell_type": "code",
   "execution_count": 25,
   "id": "d773cab4",
   "metadata": {},
   "outputs": [
    {
     "data": {
      "text/html": [
       "<div>\n",
       "<style scoped>\n",
       "    .dataframe tbody tr th:only-of-type {\n",
       "        vertical-align: middle;\n",
       "    }\n",
       "\n",
       "    .dataframe tbody tr th {\n",
       "        vertical-align: top;\n",
       "    }\n",
       "\n",
       "    .dataframe thead th {\n",
       "        text-align: right;\n",
       "    }\n",
       "</style>\n",
       "<table border=\"1\" class=\"dataframe\">\n",
       "  <thead>\n",
       "    <tr style=\"text-align: right;\">\n",
       "      <th></th>\n",
       "      <th></th>\n",
       "      <th>Count</th>\n",
       "    </tr>\n",
       "    <tr>\n",
       "      <th>SMOKE</th>\n",
       "      <th>NObeyesdad</th>\n",
       "      <th></th>\n",
       "    </tr>\n",
       "  </thead>\n",
       "  <tbody>\n",
       "    <tr>\n",
       "      <th rowspan=\"7\" valign=\"top\">no</th>\n",
       "      <th>Insufficient_Weight</th>\n",
       "      <td>266</td>\n",
       "    </tr>\n",
       "    <tr>\n",
       "      <th>Normal_Weight</th>\n",
       "      <td>269</td>\n",
       "    </tr>\n",
       "    <tr>\n",
       "      <th>Obesity_Type_I</th>\n",
       "      <td>345</td>\n",
       "    </tr>\n",
       "    <tr>\n",
       "      <th>Obesity_Type_II</th>\n",
       "      <td>282</td>\n",
       "    </tr>\n",
       "    <tr>\n",
       "      <th>Obesity_Type_III</th>\n",
       "      <td>323</td>\n",
       "    </tr>\n",
       "    <tr>\n",
       "      <th>Overweight_Level_I</th>\n",
       "      <td>273</td>\n",
       "    </tr>\n",
       "    <tr>\n",
       "      <th>Overweight_Level_II</th>\n",
       "      <td>285</td>\n",
       "    </tr>\n",
       "    <tr>\n",
       "      <th rowspan=\"7\" valign=\"top\">yes</th>\n",
       "      <th>Insufficient_Weight</th>\n",
       "      <td>1</td>\n",
       "    </tr>\n",
       "    <tr>\n",
       "      <th>Normal_Weight</th>\n",
       "      <td>13</td>\n",
       "    </tr>\n",
       "    <tr>\n",
       "      <th>Obesity_Type_I</th>\n",
       "      <td>6</td>\n",
       "    </tr>\n",
       "    <tr>\n",
       "      <th>Obesity_Type_II</th>\n",
       "      <td>15</td>\n",
       "    </tr>\n",
       "    <tr>\n",
       "      <th>Obesity_Type_III</th>\n",
       "      <td>1</td>\n",
       "    </tr>\n",
       "    <tr>\n",
       "      <th>Overweight_Level_I</th>\n",
       "      <td>3</td>\n",
       "    </tr>\n",
       "    <tr>\n",
       "      <th>Overweight_Level_II</th>\n",
       "      <td>5</td>\n",
       "    </tr>\n",
       "  </tbody>\n",
       "</table>\n",
       "</div>"
      ],
      "text/plain": [
       "                           Count\n",
       "SMOKE NObeyesdad                \n",
       "no    Insufficient_Weight    266\n",
       "      Normal_Weight          269\n",
       "      Obesity_Type_I         345\n",
       "      Obesity_Type_II        282\n",
       "      Obesity_Type_III       323\n",
       "      Overweight_Level_I     273\n",
       "      Overweight_Level_II    285\n",
       "yes   Insufficient_Weight      1\n",
       "      Normal_Weight           13\n",
       "      Obesity_Type_I           6\n",
       "      Obesity_Type_II         15\n",
       "      Obesity_Type_III         1\n",
       "      Overweight_Level_I       3\n",
       "      Overweight_Level_II      5"
      ]
     },
     "execution_count": 25,
     "metadata": {},
     "output_type": "execute_result"
    }
   ],
   "source": [
    "smoke"
   ]
  },
  {
   "cell_type": "markdown",
   "id": "0ccabaf3",
   "metadata": {},
   "source": [
    "#### Smoking doesn't have a great effect on obesity "
   ]
  },
  {
   "cell_type": "code",
   "execution_count": 26,
   "id": "e460a82f",
   "metadata": {},
   "outputs": [
    {
     "name": "stdout",
     "output_type": "stream",
     "text": [
      "<class 'pandas.core.frame.DataFrame'>\n",
      "Int64Index: 2087 entries, 0 to 2110\n",
      "Data columns (total 17 columns):\n",
      " #   Column                          Non-Null Count  Dtype  \n",
      "---  ------                          --------------  -----  \n",
      " 0   Gender                          2087 non-null   object \n",
      " 1   Age                             2087 non-null   float64\n",
      " 2   Height                          2087 non-null   float64\n",
      " 3   Weight                          2087 non-null   float64\n",
      " 4   family_history_with_overweight  2087 non-null   object \n",
      " 5   FAVC                            2087 non-null   object \n",
      " 6   FCVC                            2087 non-null   float64\n",
      " 7   NCP                             2087 non-null   float64\n",
      " 8   CAEC                            2087 non-null   object \n",
      " 9   SMOKE                           2087 non-null   object \n",
      " 10  CH2O                            2087 non-null   float64\n",
      " 11  SCC                             2087 non-null   object \n",
      " 12  FAF                             2087 non-null   float64\n",
      " 13  TUE                             2087 non-null   float64\n",
      " 14  CALC                            2087 non-null   object \n",
      " 15  MTRANS                          2087 non-null   object \n",
      " 16  NObeyesdad                      2087 non-null   object \n",
      "dtypes: float64(8), object(9)\n",
      "memory usage: 293.5+ KB\n"
     ]
    }
   ],
   "source": [
    "data.info()"
   ]
  },
  {
   "cell_type": "code",
   "execution_count": 27,
   "id": "a293d7bc",
   "metadata": {},
   "outputs": [
    {
     "name": "stderr",
     "output_type": "stream",
     "text": [
      "C:\\Users\\DELL\\anaconda3\\lib\\site-packages\\seaborn\\_decorators.py:36: FutureWarning: Pass the following variables as keyword args: x, y. From version 0.12, the only valid positional argument will be `data`, and passing other arguments without an explicit keyword will result in an error or misinterpretation.\n",
      "  warnings.warn(\n"
     ]
    },
    {
     "data": {
      "text/plain": [
       "Text(0.5, 1.0, 'Relation between age and weight')"
      ]
     },
     "execution_count": 27,
     "metadata": {},
     "output_type": "execute_result"
    },
    {
     "data": {
      "image/png": "[encoded data removed]",
      "text/plain": [
       "<Figure size 640x480 with 1 Axes>"
      ]
     },
     "metadata": {},
     "output_type": "display_data"
    }
   ],
   "source": [
    "snp.scatterplot(data[\"Age\"],data[\"Weight\"])\n",
    "plt.title(\"Relation between age and weight\")"
   ]
  },
  {
   "cell_type": "markdown",
   "id": "ee954528",
   "metadata": {},
   "source": [
    "#### Relation between obesity and alcohol "
   ]
  },
  {
   "cell_type": "code",
   "execution_count": 28,
   "id": "eda15824",
   "metadata": {},
   "outputs": [],
   "source": [
    "Alcohol=data.groupby([\"CALC\",\"NObeyesdad\"]).count()[\"FAF\"] .to_frame(\"Count\")"
   ]
  },
  {
   "cell_type": "code",
   "execution_count": 29,
   "id": "a12cf7cb",
   "metadata": {},
   "outputs": [
    {
     "data": {
      "text/html": [
       "<div>\n",
       "<style scoped>\n",
       "    .dataframe tbody tr th:only-of-type {\n",
       "        vertical-align: middle;\n",
       "    }\n",
       "\n",
       "    .dataframe tbody tr th {\n",
       "        vertical-align: top;\n",
       "    }\n",
       "\n",
       "    .dataframe thead th {\n",
       "        text-align: right;\n",
       "    }\n",
       "</style>\n",
       "<table border=\"1\" class=\"dataframe\">\n",
       "  <thead>\n",
       "    <tr style=\"text-align: right;\">\n",
       "      <th></th>\n",
       "      <th></th>\n",
       "      <th>Count</th>\n",
       "    </tr>\n",
       "    <tr>\n",
       "      <th>CALC</th>\n",
       "      <th>NObeyesdad</th>\n",
       "      <th></th>\n",
       "    </tr>\n",
       "  </thead>\n",
       "  <tbody>\n",
       "    <tr>\n",
       "      <th>Always</th>\n",
       "      <th>Normal_Weight</th>\n",
       "      <td>1</td>\n",
       "    </tr>\n",
       "    <tr>\n",
       "      <th rowspan=\"6\" valign=\"top\">Frequently</th>\n",
       "      <th>Insufficient_Weight</th>\n",
       "      <td>1</td>\n",
       "    </tr>\n",
       "    <tr>\n",
       "      <th>Normal_Weight</th>\n",
       "      <td>18</td>\n",
       "    </tr>\n",
       "    <tr>\n",
       "      <th>Obesity_Type_I</th>\n",
       "      <td>14</td>\n",
       "    </tr>\n",
       "    <tr>\n",
       "      <th>Obesity_Type_II</th>\n",
       "      <td>2</td>\n",
       "    </tr>\n",
       "    <tr>\n",
       "      <th>Overweight_Level_I</th>\n",
       "      <td>16</td>\n",
       "    </tr>\n",
       "    <tr>\n",
       "      <th>Overweight_Level_II</th>\n",
       "      <td>19</td>\n",
       "    </tr>\n",
       "    <tr>\n",
       "      <th rowspan=\"7\" valign=\"top\">Sometimes</th>\n",
       "      <th>Insufficient_Weight</th>\n",
       "      <td>149</td>\n",
       "    </tr>\n",
       "    <tr>\n",
       "      <th>Normal_Weight</th>\n",
       "      <td>159</td>\n",
       "    </tr>\n",
       "    <tr>\n",
       "      <th>Obesity_Type_I</th>\n",
       "      <td>172</td>\n",
       "    </tr>\n",
       "    <tr>\n",
       "      <th>Obesity_Type_II</th>\n",
       "      <td>224</td>\n",
       "    </tr>\n",
       "    <tr>\n",
       "      <th>Obesity_Type_III</th>\n",
       "      <td>323</td>\n",
       "    </tr>\n",
       "    <tr>\n",
       "      <th>Overweight_Level_I</th>\n",
       "      <td>210</td>\n",
       "    </tr>\n",
       "    <tr>\n",
       "      <th>Overweight_Level_II</th>\n",
       "      <td>143</td>\n",
       "    </tr>\n",
       "    <tr>\n",
       "      <th rowspan=\"7\" valign=\"top\">no</th>\n",
       "      <th>Insufficient_Weight</th>\n",
       "      <td>117</td>\n",
       "    </tr>\n",
       "    <tr>\n",
       "      <th>Normal_Weight</th>\n",
       "      <td>104</td>\n",
       "    </tr>\n",
       "    <tr>\n",
       "      <th>Obesity_Type_I</th>\n",
       "      <td>165</td>\n",
       "    </tr>\n",
       "    <tr>\n",
       "      <th>Obesity_Type_II</th>\n",
       "      <td>71</td>\n",
       "    </tr>\n",
       "    <tr>\n",
       "      <th>Obesity_Type_III</th>\n",
       "      <td>1</td>\n",
       "    </tr>\n",
       "    <tr>\n",
       "      <th>Overweight_Level_I</th>\n",
       "      <td>50</td>\n",
       "    </tr>\n",
       "    <tr>\n",
       "      <th>Overweight_Level_II</th>\n",
       "      <td>128</td>\n",
       "    </tr>\n",
       "  </tbody>\n",
       "</table>\n",
       "</div>"
      ],
      "text/plain": [
       "                                Count\n",
       "CALC       NObeyesdad                \n",
       "Always     Normal_Weight            1\n",
       "Frequently Insufficient_Weight      1\n",
       "           Normal_Weight           18\n",
       "           Obesity_Type_I          14\n",
       "           Obesity_Type_II          2\n",
       "           Overweight_Level_I      16\n",
       "           Overweight_Level_II     19\n",
       "Sometimes  Insufficient_Weight    149\n",
       "           Normal_Weight          159\n",
       "           Obesity_Type_I         172\n",
       "           Obesity_Type_II        224\n",
       "           Obesity_Type_III       323\n",
       "           Overweight_Level_I     210\n",
       "           Overweight_Level_II    143\n",
       "no         Insufficient_Weight    117\n",
       "           Normal_Weight          104\n",
       "           Obesity_Type_I         165\n",
       "           Obesity_Type_II         71\n",
       "           Obesity_Type_III         1\n",
       "           Overweight_Level_I      50\n",
       "           Overweight_Level_II    128"
      ]
     },
     "execution_count": 29,
     "metadata": {},
     "output_type": "execute_result"
    }
   ],
   "source": [
    "Alcohol   # Relation between obesity and smoking"
   ]
  },
  {
   "cell_type": "markdown",
   "id": "50cdf02d",
   "metadata": {},
   "source": [
    "##### Transportation and obesity "
   ]
  },
  {
   "cell_type": "code",
   "execution_count": 30,
   "id": "d14d91ab",
   "metadata": {},
   "outputs": [],
   "source": [
    "Transportation=data.groupby([\"MTRANS\"]).mean()[\"Weight\"].sort_values(ascending=False) .to_frame()"
   ]
  },
  {
   "cell_type": "code",
   "execution_count": 31,
   "id": "47119b9a",
   "metadata": {
    "scrolled": true
   },
   "outputs": [
    {
     "data": {
      "text/html": [
       "<div>\n",
       "<style scoped>\n",
       "    .dataframe tbody tr th:only-of-type {\n",
       "        vertical-align: middle;\n",
       "    }\n",
       "\n",
       "    .dataframe tbody tr th {\n",
       "        vertical-align: top;\n",
       "    }\n",
       "\n",
       "    .dataframe thead th {\n",
       "        text-align: right;\n",
       "    }\n",
       "</style>\n",
       "<table border=\"1\" class=\"dataframe\">\n",
       "  <thead>\n",
       "    <tr style=\"text-align: right;\">\n",
       "      <th></th>\n",
       "      <th>Weight</th>\n",
       "    </tr>\n",
       "    <tr>\n",
       "      <th>MTRANS</th>\n",
       "      <th></th>\n",
       "    </tr>\n",
       "  </thead>\n",
       "  <tbody>\n",
       "    <tr>\n",
       "      <th>Public_Transportation</th>\n",
       "      <td>87.838899</td>\n",
       "    </tr>\n",
       "    <tr>\n",
       "      <th>Automobile</th>\n",
       "      <td>85.931539</td>\n",
       "    </tr>\n",
       "    <tr>\n",
       "      <th>Bike</th>\n",
       "      <td>76.714286</td>\n",
       "    </tr>\n",
       "    <tr>\n",
       "      <th>Motorbike</th>\n",
       "      <td>73.090909</td>\n",
       "    </tr>\n",
       "    <tr>\n",
       "      <th>Walking</th>\n",
       "      <td>70.825128</td>\n",
       "    </tr>\n",
       "  </tbody>\n",
       "</table>\n",
       "</div>"
      ],
      "text/plain": [
       "                          Weight\n",
       "MTRANS                          \n",
       "Public_Transportation  87.838899\n",
       "Automobile             85.931539\n",
       "Bike                   76.714286\n",
       "Motorbike              73.090909\n",
       "Walking                70.825128"
      ]
     },
     "execution_count": 31,
     "metadata": {},
     "output_type": "execute_result"
    }
   ],
   "source": [
    "Transportation   # Effect of transportation on weight"
   ]
  },
  {
   "cell_type": "code",
   "execution_count": 32,
   "id": "1954d69a",
   "metadata": {},
   "outputs": [
    {
     "data": {
      "image/png": "[encoded data removed]",
      "text/plain": [
       "<Figure size 640x480 with 1 Axes>"
      ]
     },
     "metadata": {},
     "output_type": "display_data"
    }
   ],
   "source": [
    "Transportation.plot(kind=\"bar\")\n",
    "plt.xlabel(\"Transportation\")\n",
    "plt.ylabel(\"Average weight\")\n",
    "plt.title(\"Transportation and weight\")\n",
    "plt.style.use(\"_classic_test_patch\")"
   ]
  },
  {
   "cell_type": "markdown",
   "id": "08095cd3",
   "metadata": {},
   "source": [
    "#### As showen in the previous plot, puplic transportation lead to highest average weight and walking lead to lowest average weight. "
   ]
  },
  {
   "cell_type": "code",
   "execution_count": 33,
   "id": "efec8a7d",
   "metadata": {},
   "outputs": [],
   "source": [
    "corr=data.corr()"
   ]
  },
  {
   "cell_type": "code",
   "execution_count": 34,
   "id": "ef0e43cf",
   "metadata": {},
   "outputs": [
    {
     "data": {
      "text/html": [
       "<div>\n",
       "<style scoped>\n",
       "    .dataframe tbody tr th:only-of-type {\n",
       "        vertical-align: middle;\n",
       "    }\n",
       "\n",
       "    .dataframe tbody tr th {\n",
       "        vertical-align: top;\n",
       "    }\n",
       "\n",
       "    .dataframe thead th {\n",
       "        text-align: right;\n",
       "    }\n",
       "</style>\n",
       "<table border=\"1\" class=\"dataframe\">\n",
       "  <thead>\n",
       "    <tr style=\"text-align: right;\">\n",
       "      <th></th>\n",
       "      <th>Age</th>\n",
       "      <th>Height</th>\n",
       "      <th>Weight</th>\n",
       "      <th>FCVC</th>\n",
       "      <th>NCP</th>\n",
       "      <th>CH2O</th>\n",
       "      <th>FAF</th>\n",
       "      <th>TUE</th>\n",
       "    </tr>\n",
       "  </thead>\n",
       "  <tbody>\n",
       "    <tr>\n",
       "      <th>Age</th>\n",
       "      <td>1.000000</td>\n",
       "      <td>-0.031748</td>\n",
       "      <td>0.198160</td>\n",
       "      <td>0.013572</td>\n",
       "      <td>-0.055823</td>\n",
       "      <td>-0.044058</td>\n",
       "      <td>-0.148202</td>\n",
       "      <td>-0.302927</td>\n",
       "    </tr>\n",
       "    <tr>\n",
       "      <th>Height</th>\n",
       "      <td>-0.031748</td>\n",
       "      <td>1.000000</td>\n",
       "      <td>0.457468</td>\n",
       "      <td>-0.040363</td>\n",
       "      <td>0.227806</td>\n",
       "      <td>0.220487</td>\n",
       "      <td>0.293584</td>\n",
       "      <td>0.041808</td>\n",
       "    </tr>\n",
       "    <tr>\n",
       "      <th>Weight</th>\n",
       "      <td>0.198160</td>\n",
       "      <td>0.457468</td>\n",
       "      <td>1.000000</td>\n",
       "      <td>0.216574</td>\n",
       "      <td>0.092149</td>\n",
       "      <td>0.203823</td>\n",
       "      <td>-0.056490</td>\n",
       "      <td>-0.079351</td>\n",
       "    </tr>\n",
       "    <tr>\n",
       "      <th>FCVC</th>\n",
       "      <td>0.013572</td>\n",
       "      <td>-0.040363</td>\n",
       "      <td>0.216574</td>\n",
       "      <td>1.000000</td>\n",
       "      <td>0.034885</td>\n",
       "      <td>0.081332</td>\n",
       "      <td>0.022003</td>\n",
       "      <td>-0.104128</td>\n",
       "    </tr>\n",
       "    <tr>\n",
       "      <th>NCP</th>\n",
       "      <td>-0.055823</td>\n",
       "      <td>0.227806</td>\n",
       "      <td>0.092149</td>\n",
       "      <td>0.034885</td>\n",
       "      <td>1.000000</td>\n",
       "      <td>0.075335</td>\n",
       "      <td>0.127816</td>\n",
       "      <td>0.015693</td>\n",
       "    </tr>\n",
       "    <tr>\n",
       "      <th>CH2O</th>\n",
       "      <td>-0.044058</td>\n",
       "      <td>0.220487</td>\n",
       "      <td>0.203823</td>\n",
       "      <td>0.081332</td>\n",
       "      <td>0.075335</td>\n",
       "      <td>1.000000</td>\n",
       "      <td>0.165310</td>\n",
       "      <td>0.020704</td>\n",
       "    </tr>\n",
       "    <tr>\n",
       "      <th>FAF</th>\n",
       "      <td>-0.148202</td>\n",
       "      <td>0.293584</td>\n",
       "      <td>-0.056490</td>\n",
       "      <td>0.022003</td>\n",
       "      <td>0.127816</td>\n",
       "      <td>0.165310</td>\n",
       "      <td>1.000000</td>\n",
       "      <td>0.058716</td>\n",
       "    </tr>\n",
       "    <tr>\n",
       "      <th>TUE</th>\n",
       "      <td>-0.302927</td>\n",
       "      <td>0.041808</td>\n",
       "      <td>-0.079351</td>\n",
       "      <td>-0.104128</td>\n",
       "      <td>0.015693</td>\n",
       "      <td>0.020704</td>\n",
       "      <td>0.058716</td>\n",
       "      <td>1.000000</td>\n",
       "    </tr>\n",
       "  </tbody>\n",
       "</table>\n",
       "</div>"
      ],
      "text/plain": [
       "             Age    Height    Weight      FCVC       NCP      CH2O       FAF  \\\n",
       "Age     1.000000 -0.031748  0.198160  0.013572 -0.055823 -0.044058 -0.148202   \n",
       "Height -0.031748  1.000000  0.457468 -0.040363  0.227806  0.220487  0.293584   \n",
       "Weight  0.198160  0.457468  1.000000  0.216574  0.092149  0.203823 -0.056490   \n",
       "FCVC    0.013572 -0.040363  0.216574  1.000000  0.034885  0.081332  0.022003   \n",
       "NCP    -0.055823  0.227806  0.092149  0.034885  1.000000  0.075335  0.127816   \n",
       "CH2O   -0.044058  0.220487  0.203823  0.081332  0.075335  1.000000  0.165310   \n",
       "FAF    -0.148202  0.293584 -0.056490  0.022003  0.127816  0.165310  1.000000   \n",
       "TUE    -0.302927  0.041808 -0.079351 -0.104128  0.015693  0.020704  0.058716   \n",
       "\n",
       "             TUE  \n",
       "Age    -0.302927  \n",
       "Height  0.041808  \n",
       "Weight -0.079351  \n",
       "FCVC   -0.104128  \n",
       "NCP     0.015693  \n",
       "CH2O    0.020704  \n",
       "FAF     0.058716  \n",
       "TUE     1.000000  "
      ]
     },
     "execution_count": 34,
     "metadata": {},
     "output_type": "execute_result"
    }
   ],
   "source": [
    "corr"
   ]
  },
  {
   "cell_type": "code",
   "execution_count": 35,
   "id": "b9a183c5",
   "metadata": {},
   "outputs": [
    {
     "data": {
      "text/plain": [
       "<AxesSubplot:>"
      ]
     },
     "execution_count": 35,
     "metadata": {},
     "output_type": "execute_result"
    },
    {
     "data": {
      "image/png": "[encoded data removed]",
      "text/plain": [
       "<Figure size 640x480 with 2 Axes>"
      ]
     },
     "metadata": {},
     "output_type": "display_data"
    }
   ],
   "source": [
    "snp.heatmap(corr)"
   ]
  },
  {
   "cell_type": "markdown",
   "id": "75b441ed",
   "metadata": {},
   "source": [
    "# Data preprocessing"
   ]
  },
  {
   "cell_type": "code",
   "execution_count": 36,
   "id": "4f41e5ff",
   "metadata": {},
   "outputs": [],
   "source": [
    "from sklearn.preprocessing import LabelEncoder\n",
    "from sklearn.linear_model import LogisticRegression\n",
    "from sklearn.model_selection import train_test_split"
   ]
  },
  {
   "cell_type": "code",
   "execution_count": 37,
   "id": "c7eb9b2a",
   "metadata": {},
   "outputs": [],
   "source": [
    "N_data=data.copy()   # Making a copy from the data"
   ]
  },
  {
   "cell_type": "code",
   "execution_count": 38,
   "id": "32260b81",
   "metadata": {},
   "outputs": [
    {
     "name": "stdout",
     "output_type": "stream",
     "text": [
      "<class 'pandas.core.frame.DataFrame'>\n",
      "Int64Index: 2087 entries, 0 to 2110\n",
      "Data columns (total 17 columns):\n",
      " #   Column                          Non-Null Count  Dtype  \n",
      "---  ------                          --------------  -----  \n",
      " 0   Gender                          2087 non-null   object \n",
      " 1   Age                             2087 non-null   float64\n",
      " 2   Height                          2087 non-null   float64\n",
      " 3   Weight                          2087 non-null   float64\n",
      " 4   family_history_with_overweight  2087 non-null   object \n",
      " 5   FAVC                            2087 non-null   object \n",
      " 6   FCVC                            2087 non-null   float64\n",
      " 7   NCP                             2087 non-null   float64\n",
      " 8   CAEC                            2087 non-null   object \n",
      " 9   SMOKE                           2087 non-null   object \n",
      " 10  CH2O                            2087 non-null   float64\n",
      " 11  SCC                             2087 non-null   object \n",
      " 12  FAF                             2087 non-null   float64\n",
      " 13  TUE                             2087 non-null   float64\n",
      " 14  CALC                            2087 non-null   object \n",
      " 15  MTRANS                          2087 non-null   object \n",
      " 16  NObeyesdad                      2087 non-null   object \n",
      "dtypes: float64(8), object(9)\n",
      "memory usage: 293.5+ KB\n"
     ]
    }
   ],
   "source": [
    "N_data.info()"
   ]
  },
  {
   "cell_type": "code",
   "execution_count": 39,
   "id": "defc3d78",
   "metadata": {},
   "outputs": [
    {
     "data": {
      "text/plain": [
       "Obesity_Type_I         351\n",
       "Obesity_Type_III       324\n",
       "Obesity_Type_II        297\n",
       "Overweight_Level_II    290\n",
       "Normal_Weight          282\n",
       "Overweight_Level_I     276\n",
       "Insufficient_Weight    267\n",
       "Name: NObeyesdad, dtype: int64"
      ]
     },
     "execution_count": 39,
     "metadata": {},
     "output_type": "execute_result"
    }
   ],
   "source": [
    "N_data[\"NObeyesdad\"].value_counts()"
   ]
  },
  {
   "cell_type": "code",
   "execution_count": 41,
   "id": "b7f3dc43",
   "metadata": {},
   "outputs": [],
   "source": [
    "LE=LabelEncoder()"
   ]
  },
  {
   "cell_type": "code",
   "execution_count": 42,
   "id": "3785dc11",
   "metadata": {},
   "outputs": [],
   "source": [
    "# Adjusting data types\n",
    "N_data[\"Gender\"]=LE.fit_transform(N_data[\"Gender\"]) #1 for men and 0 for women\n",
    "N_data[\"family_history_with_overweight\"]=LE.fit_transform(N_data[\"family_history_with_overweight\"])\n",
    "        #1 for yes and 0 for no\n",
    "N_data[\"FAVC\"]=LE.fit_transform(N_data[\"FAVC\"]) #1 for yes and 0 for no\n",
    "N_data[\"CAEC\"]=LE.fit_transform(N_data[\"CAEC\"]) \n",
    "        #0 for Always,1 for Frequently,2 for Sometimes,3 for no\n",
    "N_data[\"SMOKE\"]=LE.fit_transform(N_data[\"SMOKE\"]) #1 for yes and 0 for no\n",
    "N_data[\"SCC\"]=LE.fit_transform(N_data[\"SCC\"]) #1 for yes and 0 for no\n",
    "N_data[\"CALC\"]=LE.fit_transform(N_data[\"CALC\"]) \n",
    "        #0 for Always,1 for Frequently,2 for Sometimes,3 for no\n",
    "N_data[\"MTRANS\"]=LE.fit_transform(N_data[\"MTRANS\"])\n",
    "        #0 for Automobile,1 for Bike,2 for Motorbike,3 for Public_Transportation,4 forWalking   "
   ]
  },
  {
   "cell_type": "code",
   "execution_count": 43,
   "id": "6ccee985",
   "metadata": {},
   "outputs": [
    {
     "data": {
      "text/plain": [
       "Obesity_Type_I         351\n",
       "Obesity_Type_III       324\n",
       "Obesity_Type_II        297\n",
       "Overweight_Level_II    290\n",
       "Normal_Weight          282\n",
       "Overweight_Level_I     276\n",
       "Insufficient_Weight    267\n",
       "Name: NObeyesdad, dtype: int64"
      ]
     },
     "execution_count": 43,
     "metadata": {},
     "output_type": "execute_result"
    }
   ],
   "source": [
    "N_data[\"NObeyesdad\"].value_counts()"
   ]
  },
  {
   "cell_type": "code",
   "execution_count": 44,
   "id": "9ca850d1",
   "metadata": {},
   "outputs": [],
   "source": [
    "N_data[\"NObeyesdad\"]=N_data[\"NObeyesdad\"].map({\"Insufficient_Weight\":0,\"Normal_Weight\":1,\n",
    "                                          \"Overweight_Level_I\":2,\"Overweight_Level_II\":3,\n",
    "                                          \"Obesity_Type_I\":4,\"Obesity_Type_II\":5,\n",
    "                                          \"Obesity_Type_III\":6})"
   ]
  },
  {
   "cell_type": "code",
   "execution_count": 45,
   "id": "b586e804",
   "metadata": {},
   "outputs": [
    {
     "name": "stdout",
     "output_type": "stream",
     "text": [
      "<class 'pandas.core.frame.DataFrame'>\n",
      "Int64Index: 2087 entries, 0 to 2110\n",
      "Data columns (total 17 columns):\n",
      " #   Column                          Non-Null Count  Dtype  \n",
      "---  ------                          --------------  -----  \n",
      " 0   Gender                          2087 non-null   int32  \n",
      " 1   Age                             2087 non-null   float64\n",
      " 2   Height                          2087 non-null   float64\n",
      " 3   Weight                          2087 non-null   float64\n",
      " 4   family_history_with_overweight  2087 non-null   int32  \n",
      " 5   FAVC                            2087 non-null   int32  \n",
      " 6   FCVC                            2087 non-null   float64\n",
      " 7   NCP                             2087 non-null   float64\n",
      " 8   CAEC                            2087 non-null   int32  \n",
      " 9   SMOKE                           2087 non-null   int32  \n",
      " 10  CH2O                            2087 non-null   float64\n",
      " 11  SCC                             2087 non-null   int32  \n",
      " 12  FAF                             2087 non-null   float64\n",
      " 13  TUE                             2087 non-null   float64\n",
      " 14  CALC                            2087 non-null   int32  \n",
      " 15  MTRANS                          2087 non-null   int32  \n",
      " 16  NObeyesdad                      2087 non-null   int64  \n",
      "dtypes: float64(8), int32(8), int64(1)\n",
      "memory usage: 228.3 KB\n"
     ]
    }
   ],
   "source": [
    "N_data.info()"
   ]
  },
  {
   "cell_type": "code",
   "execution_count": 46,
   "id": "d38bd747",
   "metadata": {},
   "outputs": [],
   "source": [
    "corr1=N_data.corr()"
   ]
  },
  {
   "cell_type": "code",
   "execution_count": 47,
   "id": "7003d60a",
   "metadata": {},
   "outputs": [
    {
     "data": {
      "text/html": [
       "<div>\n",
       "<style scoped>\n",
       "    .dataframe tbody tr th:only-of-type {\n",
       "        vertical-align: middle;\n",
       "    }\n",
       "\n",
       "    .dataframe tbody tr th {\n",
       "        vertical-align: top;\n",
       "    }\n",
       "\n",
       "    .dataframe thead th {\n",
       "        text-align: right;\n",
       "    }\n",
       "</style>\n",
       "<table border=\"1\" class=\"dataframe\">\n",
       "  <thead>\n",
       "    <tr style=\"text-align: right;\">\n",
       "      <th></th>\n",
       "      <th>Gender</th>\n",
       "      <th>Age</th>\n",
       "      <th>Height</th>\n",
       "      <th>Weight</th>\n",
       "      <th>family_history_with_overweight</th>\n",
       "      <th>FAVC</th>\n",
       "      <th>FCVC</th>\n",
       "      <th>NCP</th>\n",
       "      <th>CAEC</th>\n",
       "      <th>SMOKE</th>\n",
       "      <th>CH2O</th>\n",
       "      <th>SCC</th>\n",
       "      <th>FAF</th>\n",
       "      <th>TUE</th>\n",
       "      <th>CALC</th>\n",
       "      <th>MTRANS</th>\n",
       "      <th>NObeyesdad</th>\n",
       "    </tr>\n",
       "  </thead>\n",
       "  <tbody>\n",
       "    <tr>\n",
       "      <th>Gender</th>\n",
       "      <td>1.000000</td>\n",
       "      <td>0.050641</td>\n",
       "      <td>0.626748</td>\n",
       "      <td>0.163176</td>\n",
       "      <td>0.113492</td>\n",
       "      <td>0.061220</td>\n",
       "      <td>-0.271575</td>\n",
       "      <td>0.077863</td>\n",
       "      <td>0.074564</td>\n",
       "      <td>0.045501</td>\n",
       "      <td>0.095129</td>\n",
       "      <td>-0.102435</td>\n",
       "      <td>0.189471</td>\n",
       "      <td>0.022356</td>\n",
       "      <td>0.010574</td>\n",
       "      <td>-0.139044</td>\n",
       "      <td>-0.031920</td>\n",
       "    </tr>\n",
       "    <tr>\n",
       "      <th>Age</th>\n",
       "      <td>0.050641</td>\n",
       "      <td>1.000000</td>\n",
       "      <td>-0.031748</td>\n",
       "      <td>0.198160</td>\n",
       "      <td>0.200379</td>\n",
       "      <td>0.063895</td>\n",
       "      <td>0.013572</td>\n",
       "      <td>-0.055823</td>\n",
       "      <td>0.092097</td>\n",
       "      <td>0.091261</td>\n",
       "      <td>-0.044058</td>\n",
       "      <td>-0.117959</td>\n",
       "      <td>-0.148202</td>\n",
       "      <td>-0.302927</td>\n",
       "      <td>-0.045565</td>\n",
       "      <td>-0.601476</td>\n",
       "      <td>0.279231</td>\n",
       "    </tr>\n",
       "    <tr>\n",
       "      <th>Height</th>\n",
       "      <td>0.626748</td>\n",
       "      <td>-0.031748</td>\n",
       "      <td>1.000000</td>\n",
       "      <td>0.457468</td>\n",
       "      <td>0.232258</td>\n",
       "      <td>0.180694</td>\n",
       "      <td>-0.040363</td>\n",
       "      <td>0.227806</td>\n",
       "      <td>0.058001</td>\n",
       "      <td>0.054326</td>\n",
       "      <td>0.220487</td>\n",
       "      <td>-0.137078</td>\n",
       "      <td>0.293584</td>\n",
       "      <td>0.041808</td>\n",
       "      <td>-0.135756</td>\n",
       "      <td>-0.068258</td>\n",
       "      <td>0.124863</td>\n",
       "    </tr>\n",
       "    <tr>\n",
       "      <th>Weight</th>\n",
       "      <td>0.163176</td>\n",
       "      <td>0.198160</td>\n",
       "      <td>0.457468</td>\n",
       "      <td>1.000000</td>\n",
       "      <td>0.492969</td>\n",
       "      <td>0.274655</td>\n",
       "      <td>0.216574</td>\n",
       "      <td>0.092149</td>\n",
       "      <td>0.300271</td>\n",
       "      <td>0.024369</td>\n",
       "      <td>0.203823</td>\n",
       "      <td>-0.205409</td>\n",
       "      <td>-0.056490</td>\n",
       "      <td>-0.079351</td>\n",
       "      <td>-0.211351</td>\n",
       "      <td>0.009836</td>\n",
       "      <td>0.912453</td>\n",
       "    </tr>\n",
       "    <tr>\n",
       "      <th>family_history_with_overweight</th>\n",
       "      <td>0.113492</td>\n",
       "      <td>0.200379</td>\n",
       "      <td>0.232258</td>\n",
       "      <td>0.492969</td>\n",
       "      <td>1.000000</td>\n",
       "      <td>0.214329</td>\n",
       "      <td>0.033199</td>\n",
       "      <td>0.028411</td>\n",
       "      <td>0.207738</td>\n",
       "      <td>0.014885</td>\n",
       "      <td>0.168627</td>\n",
       "      <td>-0.193947</td>\n",
       "      <td>-0.062937</td>\n",
       "      <td>0.002314</td>\n",
       "      <td>0.028403</td>\n",
       "      <td>-0.092730</td>\n",
       "      <td>0.503374</td>\n",
       "    </tr>\n",
       "    <tr>\n",
       "      <th>FAVC</th>\n",
       "      <td>0.061220</td>\n",
       "      <td>0.063895</td>\n",
       "      <td>0.180694</td>\n",
       "      <td>0.274655</td>\n",
       "      <td>0.214329</td>\n",
       "      <td>1.000000</td>\n",
       "      <td>-0.025419</td>\n",
       "      <td>-0.006398</td>\n",
       "      <td>0.147921</td>\n",
       "      <td>-0.050713</td>\n",
       "      <td>0.002993</td>\n",
       "      <td>-0.191277</td>\n",
       "      <td>-0.111184</td>\n",
       "      <td>0.071505</td>\n",
       "      <td>-0.087661</td>\n",
       "      <td>-0.069422</td>\n",
       "      <td>0.249927</td>\n",
       "    </tr>\n",
       "    <tr>\n",
       "      <th>FCVC</th>\n",
       "      <td>-0.271575</td>\n",
       "      <td>0.013572</td>\n",
       "      <td>-0.040363</td>\n",
       "      <td>0.216574</td>\n",
       "      <td>0.033199</td>\n",
       "      <td>-0.025419</td>\n",
       "      <td>1.000000</td>\n",
       "      <td>0.034885</td>\n",
       "      <td>-0.038565</td>\n",
       "      <td>0.013716</td>\n",
       "      <td>0.081332</td>\n",
       "      <td>0.071179</td>\n",
       "      <td>0.022003</td>\n",
       "      <td>-0.104128</td>\n",
       "      <td>-0.063132</td>\n",
       "      <td>0.069012</td>\n",
       "      <td>0.228591</td>\n",
       "    </tr>\n",
       "    <tr>\n",
       "      <th>NCP</th>\n",
       "      <td>0.077863</td>\n",
       "      <td>-0.055823</td>\n",
       "      <td>0.227806</td>\n",
       "      <td>0.092149</td>\n",
       "      <td>0.028411</td>\n",
       "      <td>-0.006398</td>\n",
       "      <td>0.034885</td>\n",
       "      <td>1.000000</td>\n",
       "      <td>-0.072316</td>\n",
       "      <td>0.005009</td>\n",
       "      <td>0.075335</td>\n",
       "      <td>-0.020461</td>\n",
       "      <td>0.127816</td>\n",
       "      <td>0.015693</td>\n",
       "      <td>-0.082985</td>\n",
       "      <td>-0.043648</td>\n",
       "      <td>0.011034</td>\n",
       "    </tr>\n",
       "    <tr>\n",
       "      <th>CAEC</th>\n",
       "      <td>0.074564</td>\n",
       "      <td>0.092097</td>\n",
       "      <td>0.058001</td>\n",
       "      <td>0.300271</td>\n",
       "      <td>0.207738</td>\n",
       "      <td>0.147921</td>\n",
       "      <td>-0.038565</td>\n",
       "      <td>-0.072316</td>\n",
       "      <td>1.000000</td>\n",
       "      <td>-0.054960</td>\n",
       "      <td>0.114801</td>\n",
       "      <td>-0.109393</td>\n",
       "      <td>-0.034803</td>\n",
       "      <td>-0.036708</td>\n",
       "      <td>-0.039502</td>\n",
       "      <td>-0.058158</td>\n",
       "      <td>0.342205</td>\n",
       "    </tr>\n",
       "    <tr>\n",
       "      <th>SMOKE</th>\n",
       "      <td>0.045501</td>\n",
       "      <td>0.091261</td>\n",
       "      <td>0.054326</td>\n",
       "      <td>0.024369</td>\n",
       "      <td>0.014885</td>\n",
       "      <td>-0.050713</td>\n",
       "      <td>0.013716</td>\n",
       "      <td>0.005009</td>\n",
       "      <td>-0.054960</td>\n",
       "      <td>1.000000</td>\n",
       "      <td>-0.031642</td>\n",
       "      <td>0.047384</td>\n",
       "      <td>0.010811</td>\n",
       "      <td>0.016491</td>\n",
       "      <td>-0.083181</td>\n",
       "      <td>-0.009995</td>\n",
       "      <td>0.001984</td>\n",
       "    </tr>\n",
       "    <tr>\n",
       "      <th>CH2O</th>\n",
       "      <td>0.095129</td>\n",
       "      <td>-0.044058</td>\n",
       "      <td>0.220487</td>\n",
       "      <td>0.203823</td>\n",
       "      <td>0.168627</td>\n",
       "      <td>0.002993</td>\n",
       "      <td>0.081332</td>\n",
       "      <td>0.075335</td>\n",
       "      <td>0.114801</td>\n",
       "      <td>-0.031642</td>\n",
       "      <td>1.000000</td>\n",
       "      <td>0.009325</td>\n",
       "      <td>0.165310</td>\n",
       "      <td>0.020704</td>\n",
       "      <td>-0.085460</td>\n",
       "      <td>0.040762</td>\n",
       "      <td>0.134170</td>\n",
       "    </tr>\n",
       "    <tr>\n",
       "      <th>SCC</th>\n",
       "      <td>-0.102435</td>\n",
       "      <td>-0.117959</td>\n",
       "      <td>-0.137078</td>\n",
       "      <td>-0.205409</td>\n",
       "      <td>-0.193947</td>\n",
       "      <td>-0.191277</td>\n",
       "      <td>0.071179</td>\n",
       "      <td>-0.020461</td>\n",
       "      <td>-0.109393</td>\n",
       "      <td>0.047384</td>\n",
       "      <td>0.009325</td>\n",
       "      <td>1.000000</td>\n",
       "      <td>0.073768</td>\n",
       "      <td>-0.012875</td>\n",
       "      <td>-0.004175</td>\n",
       "      <td>0.044381</td>\n",
       "      <td>-0.197819</td>\n",
       "    </tr>\n",
       "    <tr>\n",
       "      <th>FAF</th>\n",
       "      <td>0.189471</td>\n",
       "      <td>-0.148202</td>\n",
       "      <td>0.293584</td>\n",
       "      <td>-0.056490</td>\n",
       "      <td>-0.062937</td>\n",
       "      <td>-0.111184</td>\n",
       "      <td>0.022003</td>\n",
       "      <td>0.127816</td>\n",
       "      <td>-0.034803</td>\n",
       "      <td>0.010811</td>\n",
       "      <td>0.165310</td>\n",
       "      <td>0.073768</td>\n",
       "      <td>1.000000</td>\n",
       "      <td>0.058716</td>\n",
       "      <td>0.086825</td>\n",
       "      <td>0.008353</td>\n",
       "      <td>-0.206001</td>\n",
       "    </tr>\n",
       "    <tr>\n",
       "      <th>TUE</th>\n",
       "      <td>0.022356</td>\n",
       "      <td>-0.302927</td>\n",
       "      <td>0.041808</td>\n",
       "      <td>-0.079351</td>\n",
       "      <td>0.002314</td>\n",
       "      <td>0.071505</td>\n",
       "      <td>-0.104128</td>\n",
       "      <td>0.015693</td>\n",
       "      <td>-0.036708</td>\n",
       "      <td>0.016491</td>\n",
       "      <td>0.020704</td>\n",
       "      <td>-0.012875</td>\n",
       "      <td>0.058716</td>\n",
       "      <td>1.000000</td>\n",
       "      <td>0.041830</td>\n",
       "      <td>0.181511</td>\n",
       "      <td>-0.115323</td>\n",
       "    </tr>\n",
       "    <tr>\n",
       "      <th>CALC</th>\n",
       "      <td>0.010574</td>\n",
       "      <td>-0.045565</td>\n",
       "      <td>-0.135756</td>\n",
       "      <td>-0.211351</td>\n",
       "      <td>0.028403</td>\n",
       "      <td>-0.087661</td>\n",
       "      <td>-0.063132</td>\n",
       "      <td>-0.082985</td>\n",
       "      <td>-0.039502</td>\n",
       "      <td>-0.083181</td>\n",
       "      <td>-0.085460</td>\n",
       "      <td>-0.004175</td>\n",
       "      <td>0.086825</td>\n",
       "      <td>0.041830</td>\n",
       "      <td>1.000000</td>\n",
       "      <td>-0.009828</td>\n",
       "      <td>-0.155300</td>\n",
       "    </tr>\n",
       "    <tr>\n",
       "      <th>MTRANS</th>\n",
       "      <td>-0.139044</td>\n",
       "      <td>-0.601476</td>\n",
       "      <td>-0.068258</td>\n",
       "      <td>0.009836</td>\n",
       "      <td>-0.092730</td>\n",
       "      <td>-0.069422</td>\n",
       "      <td>0.069012</td>\n",
       "      <td>-0.043648</td>\n",
       "      <td>-0.058158</td>\n",
       "      <td>-0.009995</td>\n",
       "      <td>0.040762</td>\n",
       "      <td>0.044381</td>\n",
       "      <td>0.008353</td>\n",
       "      <td>0.181511</td>\n",
       "      <td>-0.009828</td>\n",
       "      <td>1.000000</td>\n",
       "      <td>0.016206</td>\n",
       "    </tr>\n",
       "    <tr>\n",
       "      <th>NObeyesdad</th>\n",
       "      <td>-0.031920</td>\n",
       "      <td>0.279231</td>\n",
       "      <td>0.124863</td>\n",
       "      <td>0.912453</td>\n",
       "      <td>0.503374</td>\n",
       "      <td>0.249927</td>\n",
       "      <td>0.228591</td>\n",
       "      <td>0.011034</td>\n",
       "      <td>0.342205</td>\n",
       "      <td>0.001984</td>\n",
       "      <td>0.134170</td>\n",
       "      <td>-0.197819</td>\n",
       "      <td>-0.206001</td>\n",
       "      <td>-0.115323</td>\n",
       "      <td>-0.155300</td>\n",
       "      <td>0.016206</td>\n",
       "      <td>1.000000</td>\n",
       "    </tr>\n",
       "  </tbody>\n",
       "</table>\n",
       "</div>"
      ],
      "text/plain": [
       "                                  Gender       Age    Height    Weight  \\\n",
       "Gender                          1.000000  0.050641  0.626748  0.163176   \n",
       "Age                             0.050641  1.000000 -0.031748  0.198160   \n",
       "Height                          0.626748 -0.031748  1.000000  0.457468   \n",
       "Weight                          0.163176  0.198160  0.457468  1.000000   \n",
       "family_history_with_overweight  0.113492  0.200379  0.232258  0.492969   \n",
       "FAVC                            0.061220  0.063895  0.180694  0.274655   \n",
       "FCVC                           -0.271575  0.013572 -0.040363  0.216574   \n",
       "NCP                             0.077863 -0.055823  0.227806  0.092149   \n",
       "CAEC                            0.074564  0.092097  0.058001  0.300271   \n",
       "SMOKE                           0.045501  0.091261  0.054326  0.024369   \n",
       "CH2O                            0.095129 -0.044058  0.220487  0.203823   \n",
       "SCC                            -0.102435 -0.117959 -0.137078 -0.205409   \n",
       "FAF                             0.189471 -0.148202  0.293584 -0.056490   \n",
       "TUE                             0.022356 -0.302927  0.041808 -0.079351   \n",
       "CALC                            0.010574 -0.045565 -0.135756 -0.211351   \n",
       "MTRANS                         -0.139044 -0.601476 -0.068258  0.009836   \n",
       "NObeyesdad                     -0.031920  0.279231  0.124863  0.912453   \n",
       "\n",
       "                                family_history_with_overweight      FAVC  \\\n",
       "Gender                                                0.113492  0.061220   \n",
       "Age                                                   0.200379  0.063895   \n",
       "Height                                                0.232258  0.180694   \n",
       "Weight                                                0.492969  0.274655   \n",
       "family_history_with_overweight                        1.000000  0.214329   \n",
       "FAVC                                                  0.214329  1.000000   \n",
       "FCVC                                                  0.033199 -0.025419   \n",
       "NCP                                                   0.028411 -0.006398   \n",
       "CAEC                                                  0.207738  0.147921   \n",
       "SMOKE                                                 0.014885 -0.050713   \n",
       "CH2O                                                  0.168627  0.002993   \n",
       "SCC                                                  -0.193947 -0.191277   \n",
       "FAF                                                  -0.062937 -0.111184   \n",
       "TUE                                                   0.002314  0.071505   \n",
       "CALC                                                  0.028403 -0.087661   \n",
       "MTRANS                                               -0.092730 -0.069422   \n",
       "NObeyesdad                                            0.503374  0.249927   \n",
       "\n",
       "                                    FCVC       NCP      CAEC     SMOKE  \\\n",
       "Gender                         -0.271575  0.077863  0.074564  0.045501   \n",
       "Age                             0.013572 -0.055823  0.092097  0.091261   \n",
       "Height                         -0.040363  0.227806  0.058001  0.054326   \n",
       "Weight                          0.216574  0.092149  0.300271  0.024369   \n",
       "family_history_with_overweight  0.033199  0.028411  0.207738  0.014885   \n",
       "FAVC                           -0.025419 -0.006398  0.147921 -0.050713   \n",
       "FCVC                            1.000000  0.034885 -0.038565  0.013716   \n",
       "NCP                             0.034885  1.000000 -0.072316  0.005009   \n",
       "CAEC                           -0.038565 -0.072316  1.000000 -0.054960   \n",
       "SMOKE                           0.013716  0.005009 -0.054960  1.000000   \n",
       "CH2O                            0.081332  0.075335  0.114801 -0.031642   \n",
       "SCC                             0.071179 -0.020461 -0.109393  0.047384   \n",
       "FAF                             0.022003  0.127816 -0.034803  0.010811   \n",
       "TUE                            -0.104128  0.015693 -0.036708  0.016491   \n",
       "CALC                           -0.063132 -0.082985 -0.039502 -0.083181   \n",
       "MTRANS                          0.069012 -0.043648 -0.058158 -0.009995   \n",
       "NObeyesdad                      0.228591  0.011034  0.342205  0.001984   \n",
       "\n",
       "                                    CH2O       SCC       FAF       TUE  \\\n",
       "Gender                          0.095129 -0.102435  0.189471  0.022356   \n",
       "Age                            -0.044058 -0.117959 -0.148202 -0.302927   \n",
       "Height                          0.220487 -0.137078  0.293584  0.041808   \n",
       "Weight                          0.203823 -0.205409 -0.056490 -0.079351   \n",
       "family_history_with_overweight  0.168627 -0.193947 -0.062937  0.002314   \n",
       "FAVC                            0.002993 -0.191277 -0.111184  0.071505   \n",
       "FCVC                            0.081332  0.071179  0.022003 -0.104128   \n",
       "NCP                             0.075335 -0.020461  0.127816  0.015693   \n",
       "CAEC                            0.114801 -0.109393 -0.034803 -0.036708   \n",
       "SMOKE                          -0.031642  0.047384  0.010811  0.016491   \n",
       "CH2O                            1.000000  0.009325  0.165310  0.020704   \n",
       "SCC                             0.009325  1.000000  0.073768 -0.012875   \n",
       "FAF                             0.165310  0.073768  1.000000  0.058716   \n",
       "TUE                             0.020704 -0.012875  0.058716  1.000000   \n",
       "CALC                           -0.085460 -0.004175  0.086825  0.041830   \n",
       "MTRANS                          0.040762  0.044381  0.008353  0.181511   \n",
       "NObeyesdad                      0.134170 -0.197819 -0.206001 -0.115323   \n",
       "\n",
       "                                    CALC    MTRANS  NObeyesdad  \n",
       "Gender                          0.010574 -0.139044   -0.031920  \n",
       "Age                            -0.045565 -0.601476    0.279231  \n",
       "Height                         -0.135756 -0.068258    0.124863  \n",
       "Weight                         -0.211351  0.009836    0.912453  \n",
       "family_history_with_overweight  0.028403 -0.092730    0.503374  \n",
       "FAVC                           -0.087661 -0.069422    0.249927  \n",
       "FCVC                           -0.063132  0.069012    0.228591  \n",
       "NCP                            -0.082985 -0.043648    0.011034  \n",
       "CAEC                           -0.039502 -0.058158    0.342205  \n",
       "SMOKE                          -0.083181 -0.009995    0.001984  \n",
       "CH2O                           -0.085460  0.040762    0.134170  \n",
       "SCC                            -0.004175  0.044381   -0.197819  \n",
       "FAF                             0.086825  0.008353   -0.206001  \n",
       "TUE                             0.041830  0.181511   -0.115323  \n",
       "CALC                            1.000000 -0.009828   -0.155300  \n",
       "MTRANS                         -0.009828  1.000000    0.016206  \n",
       "NObeyesdad                     -0.155300  0.016206    1.000000  "
      ]
     },
     "execution_count": 47,
     "metadata": {},
     "output_type": "execute_result"
    }
   ],
   "source": [
    "corr1"
   ]
  },
  {
   "cell_type": "code",
   "execution_count": 48,
   "id": "44522781",
   "metadata": {},
   "outputs": [
    {
     "data": {
      "text/plain": [
       "<AxesSubplot:>"
      ]
     },
     "execution_count": 48,
     "metadata": {},
     "output_type": "execute_result"
    },
    {
     "data": {
      "image/png": "[encoded data removed]",
      "text/plain": [
       "<Figure size 640x480 with 2 Axes>"
      ]
     },
     "metadata": {},
     "output_type": "display_data"
    }
   ],
   "source": [
    "snp.heatmap(corr1)"
   ]
  },
  {
   "cell_type": "code",
   "execution_count": 49,
   "id": "7a587771",
   "metadata": {},
   "outputs": [
    {
     "data": {
      "text/html": [
       "<div>\n",
       "<style scoped>\n",
       "    .dataframe tbody tr th:only-of-type {\n",
       "        vertical-align: middle;\n",
       "    }\n",
       "\n",
       "    .dataframe tbody tr th {\n",
       "        vertical-align: top;\n",
       "    }\n",
       "\n",
       "    .dataframe thead th {\n",
       "        text-align: right;\n",
       "    }\n",
       "</style>\n",
       "<table border=\"1\" class=\"dataframe\">\n",
       "  <thead>\n",
       "    <tr style=\"text-align: right;\">\n",
       "      <th></th>\n",
       "      <th>Gender</th>\n",
       "      <th>Age</th>\n",
       "      <th>Height</th>\n",
       "      <th>Weight</th>\n",
       "      <th>family_history_with_overweight</th>\n",
       "      <th>FAVC</th>\n",
       "      <th>FCVC</th>\n",
       "      <th>NCP</th>\n",
       "      <th>CAEC</th>\n",
       "      <th>SMOKE</th>\n",
       "      <th>CH2O</th>\n",
       "      <th>SCC</th>\n",
       "      <th>FAF</th>\n",
       "      <th>TUE</th>\n",
       "      <th>CALC</th>\n",
       "      <th>MTRANS</th>\n",
       "      <th>NObeyesdad</th>\n",
       "    </tr>\n",
       "  </thead>\n",
       "  <tbody>\n",
       "    <tr>\n",
       "      <th>count</th>\n",
       "      <td>2087.000000</td>\n",
       "      <td>2087.000000</td>\n",
       "      <td>2087.000000</td>\n",
       "      <td>2087.000000</td>\n",
       "      <td>2087.000000</td>\n",
       "      <td>2087.000000</td>\n",
       "      <td>2087.000000</td>\n",
       "      <td>2087.000000</td>\n",
       "      <td>2087.000000</td>\n",
       "      <td>2087.000000</td>\n",
       "      <td>2087.000000</td>\n",
       "      <td>2087.000000</td>\n",
       "      <td>2087.000000</td>\n",
       "      <td>2087.000000</td>\n",
       "      <td>2087.000000</td>\n",
       "      <td>2087.000000</td>\n",
       "      <td>2087.000000</td>\n",
       "    </tr>\n",
       "    <tr>\n",
       "      <th>mean</th>\n",
       "      <td>0.504073</td>\n",
       "      <td>24.353090</td>\n",
       "      <td>1.702674</td>\n",
       "      <td>86.858730</td>\n",
       "      <td>0.825108</td>\n",
       "      <td>0.883565</td>\n",
       "      <td>2.421466</td>\n",
       "      <td>2.701179</td>\n",
       "      <td>1.853857</td>\n",
       "      <td>0.021083</td>\n",
       "      <td>2.004749</td>\n",
       "      <td>0.045999</td>\n",
       "      <td>1.012812</td>\n",
       "      <td>0.663035</td>\n",
       "      <td>2.270244</td>\n",
       "      <td>2.358888</td>\n",
       "      <td>3.132247</td>\n",
       "    </tr>\n",
       "    <tr>\n",
       "      <th>std</th>\n",
       "      <td>0.500103</td>\n",
       "      <td>6.368801</td>\n",
       "      <td>0.093186</td>\n",
       "      <td>26.190847</td>\n",
       "      <td>0.379966</td>\n",
       "      <td>0.320823</td>\n",
       "      <td>0.534737</td>\n",
       "      <td>0.764614</td>\n",
       "      <td>0.459494</td>\n",
       "      <td>0.143695</td>\n",
       "      <td>0.608284</td>\n",
       "      <td>0.209533</td>\n",
       "      <td>0.853475</td>\n",
       "      <td>0.608153</td>\n",
       "      <td>0.517008</td>\n",
       "      <td>1.265402</td>\n",
       "      <td>1.985747</td>\n",
       "    </tr>\n",
       "    <tr>\n",
       "      <th>min</th>\n",
       "      <td>0.000000</td>\n",
       "      <td>14.000000</td>\n",
       "      <td>1.450000</td>\n",
       "      <td>39.000000</td>\n",
       "      <td>0.000000</td>\n",
       "      <td>0.000000</td>\n",
       "      <td>1.000000</td>\n",
       "      <td>1.000000</td>\n",
       "      <td>0.000000</td>\n",
       "      <td>0.000000</td>\n",
       "      <td>1.000000</td>\n",
       "      <td>0.000000</td>\n",
       "      <td>0.000000</td>\n",
       "      <td>0.000000</td>\n",
       "      <td>0.000000</td>\n",
       "      <td>0.000000</td>\n",
       "      <td>0.000000</td>\n",
       "    </tr>\n",
       "    <tr>\n",
       "      <th>25%</th>\n",
       "      <td>0.000000</td>\n",
       "      <td>19.915937</td>\n",
       "      <td>1.630178</td>\n",
       "      <td>66.000000</td>\n",
       "      <td>1.000000</td>\n",
       "      <td>1.000000</td>\n",
       "      <td>2.000000</td>\n",
       "      <td>2.697467</td>\n",
       "      <td>2.000000</td>\n",
       "      <td>0.000000</td>\n",
       "      <td>1.590922</td>\n",
       "      <td>0.000000</td>\n",
       "      <td>0.124505</td>\n",
       "      <td>0.000000</td>\n",
       "      <td>2.000000</td>\n",
       "      <td>3.000000</td>\n",
       "      <td>1.000000</td>\n",
       "    </tr>\n",
       "    <tr>\n",
       "      <th>50%</th>\n",
       "      <td>1.000000</td>\n",
       "      <td>22.847618</td>\n",
       "      <td>1.701584</td>\n",
       "      <td>83.101100</td>\n",
       "      <td>1.000000</td>\n",
       "      <td>1.000000</td>\n",
       "      <td>2.396265</td>\n",
       "      <td>3.000000</td>\n",
       "      <td>2.000000</td>\n",
       "      <td>0.000000</td>\n",
       "      <td>2.000000</td>\n",
       "      <td>0.000000</td>\n",
       "      <td>1.000000</td>\n",
       "      <td>0.630866</td>\n",
       "      <td>2.000000</td>\n",
       "      <td>3.000000</td>\n",
       "      <td>3.000000</td>\n",
       "    </tr>\n",
       "    <tr>\n",
       "      <th>75%</th>\n",
       "      <td>1.000000</td>\n",
       "      <td>26.000000</td>\n",
       "      <td>1.769491</td>\n",
       "      <td>108.015907</td>\n",
       "      <td>1.000000</td>\n",
       "      <td>1.000000</td>\n",
       "      <td>3.000000</td>\n",
       "      <td>3.000000</td>\n",
       "      <td>2.000000</td>\n",
       "      <td>0.000000</td>\n",
       "      <td>2.466193</td>\n",
       "      <td>0.000000</td>\n",
       "      <td>1.678102</td>\n",
       "      <td>1.000000</td>\n",
       "      <td>3.000000</td>\n",
       "      <td>3.000000</td>\n",
       "      <td>5.000000</td>\n",
       "    </tr>\n",
       "    <tr>\n",
       "      <th>max</th>\n",
       "      <td>1.000000</td>\n",
       "      <td>61.000000</td>\n",
       "      <td>1.980000</td>\n",
       "      <td>173.000000</td>\n",
       "      <td>1.000000</td>\n",
       "      <td>1.000000</td>\n",
       "      <td>3.000000</td>\n",
       "      <td>4.000000</td>\n",
       "      <td>3.000000</td>\n",
       "      <td>1.000000</td>\n",
       "      <td>3.000000</td>\n",
       "      <td>1.000000</td>\n",
       "      <td>3.000000</td>\n",
       "      <td>2.000000</td>\n",
       "      <td>3.000000</td>\n",
       "      <td>4.000000</td>\n",
       "      <td>6.000000</td>\n",
       "    </tr>\n",
       "  </tbody>\n",
       "</table>\n",
       "</div>"
      ],
      "text/plain": [
       "            Gender          Age       Height       Weight  \\\n",
       "count  2087.000000  2087.000000  2087.000000  2087.000000   \n",
       "mean      0.504073    24.353090     1.702674    86.858730   \n",
       "std       0.500103     6.368801     0.093186    26.190847   \n",
       "min       0.000000    14.000000     1.450000    39.000000   \n",
       "25%       0.000000    19.915937     1.630178    66.000000   \n",
       "50%       1.000000    22.847618     1.701584    83.101100   \n",
       "75%       1.000000    26.000000     1.769491   108.015907   \n",
       "max       1.000000    61.000000     1.980000   173.000000   \n",
       "\n",
       "       family_history_with_overweight         FAVC         FCVC          NCP  \\\n",
       "count                     2087.000000  2087.000000  2087.000000  2087.000000   \n",
       "mean                         0.825108     0.883565     2.421466     2.701179   \n",
       "std                          0.379966     0.320823     0.534737     0.764614   \n",
       "min                          0.000000     0.000000     1.000000     1.000000   \n",
       "25%                          1.000000     1.000000     2.000000     2.697467   \n",
       "50%                          1.000000     1.000000     2.396265     3.000000   \n",
       "75%                          1.000000     1.000000     3.000000     3.000000   \n",
       "max                          1.000000     1.000000     3.000000     4.000000   \n",
       "\n",
       "              CAEC        SMOKE         CH2O          SCC          FAF  \\\n",
       "count  2087.000000  2087.000000  2087.000000  2087.000000  2087.000000   \n",
       "mean      1.853857     0.021083     2.004749     0.045999     1.012812   \n",
       "std       0.459494     0.143695     0.608284     0.209533     0.853475   \n",
       "min       0.000000     0.000000     1.000000     0.000000     0.000000   \n",
       "25%       2.000000     0.000000     1.590922     0.000000     0.124505   \n",
       "50%       2.000000     0.000000     2.000000     0.000000     1.000000   \n",
       "75%       2.000000     0.000000     2.466193     0.000000     1.678102   \n",
       "max       3.000000     1.000000     3.000000     1.000000     3.000000   \n",
       "\n",
       "               TUE         CALC       MTRANS   NObeyesdad  \n",
       "count  2087.000000  2087.000000  2087.000000  2087.000000  \n",
       "mean      0.663035     2.270244     2.358888     3.132247  \n",
       "std       0.608153     0.517008     1.265402     1.985747  \n",
       "min       0.000000     0.000000     0.000000     0.000000  \n",
       "25%       0.000000     2.000000     3.000000     1.000000  \n",
       "50%       0.630866     2.000000     3.000000     3.000000  \n",
       "75%       1.000000     3.000000     3.000000     5.000000  \n",
       "max       2.000000     3.000000     4.000000     6.000000  "
      ]
     },
     "execution_count": 49,
     "metadata": {},
     "output_type": "execute_result"
    }
   ],
   "source": [
    "N_data.describe()"
   ]
  },
  {
   "cell_type": "markdown",
   "id": "37115755",
   "metadata": {},
   "source": [
    "#### Splitting the data "
   ]
  },
  {
   "cell_type": "code",
   "execution_count": 50,
   "id": "51a02134",
   "metadata": {},
   "outputs": [
    {
     "data": {
      "text/plain": [
       "(2087, 17)"
      ]
     },
     "execution_count": 50,
     "metadata": {},
     "output_type": "execute_result"
    }
   ],
   "source": [
    "N_data.shape"
   ]
  },
  {
   "cell_type": "code",
   "execution_count": 51,
   "id": "2886ddb3",
   "metadata": {},
   "outputs": [],
   "source": [
    "X=N_data.drop(\"NObeyesdad\",axis=1)"
   ]
  },
  {
   "cell_type": "code",
   "execution_count": 52,
   "id": "2f31274f",
   "metadata": {},
   "outputs": [
    {
     "data": {
      "text/plain": [
       "(2087, 16)"
      ]
     },
     "execution_count": 52,
     "metadata": {},
     "output_type": "execute_result"
    }
   ],
   "source": [
    "X.shape"
   ]
  },
  {
   "cell_type": "code",
   "execution_count": 53,
   "id": "076fc2c8",
   "metadata": {},
   "outputs": [],
   "source": [
    "y=N_data[\"NObeyesdad\"]"
   ]
  },
  {
   "cell_type": "code",
   "execution_count": 54,
   "id": "78df4b95",
   "metadata": {},
   "outputs": [
    {
     "data": {
      "text/plain": [
       "(2087,)"
      ]
     },
     "execution_count": 54,
     "metadata": {},
     "output_type": "execute_result"
    }
   ],
   "source": [
    "y.shape"
   ]
  },
  {
   "cell_type": "code",
   "execution_count": 55,
   "id": "f4aff90c",
   "metadata": {},
   "outputs": [],
   "source": [
    "X_train, X_test, y_train, y_test = train_test_split(X, y, test_size=0.25, random_state=44, shuffle =True)"
   ]
  },
  {
   "cell_type": "code",
   "execution_count": 56,
   "id": "54ca0492",
   "metadata": {},
   "outputs": [
    {
     "data": {
      "text/plain": [
       "(1565, 16)"
      ]
     },
     "execution_count": 56,
     "metadata": {},
     "output_type": "execute_result"
    }
   ],
   "source": [
    "X_train.shape"
   ]
  },
  {
   "cell_type": "code",
   "execution_count": 57,
   "id": "8a596c7d",
   "metadata": {},
   "outputs": [
    {
     "data": {
      "text/plain": [
       "(522,)"
      ]
     },
     "execution_count": 57,
     "metadata": {},
     "output_type": "execute_result"
    }
   ],
   "source": [
    "y_test.shape"
   ]
  },
  {
   "cell_type": "markdown",
   "id": "32cf1e21",
   "metadata": {},
   "source": [
    "# Data Modeling"
   ]
  },
  {
   "cell_type": "code",
   "execution_count": 58,
   "id": "3fc605e5",
   "metadata": {},
   "outputs": [],
   "source": [
    "from sklearn.ensemble import VotingClassifier\n",
    "from sklearn.ensemble import RandomForestClassifier\n",
    "from sklearn.svm import SVC\n",
    "from sklearn.metrics import confusion_matrix\n",
    "from sklearn.metrics import accuracy_score"
   ]
  },
  {
   "cell_type": "markdown",
   "id": "1360f820",
   "metadata": {},
   "source": [
    "#### Building The Model"
   ]
  },
  {
   "cell_type": "code",
   "execution_count": 59,
   "id": "da011920",
   "metadata": {},
   "outputs": [],
   "source": [
    "SVCModel = SVC(kernel= 'rbf',max_iter=1000,C=1.0,gamma='auto',probability=True)"
   ]
  },
  {
   "cell_type": "code",
   "execution_count": 60,
   "id": "20d916a6",
   "metadata": {},
   "outputs": [],
   "source": [
    "RFModel = RandomForestClassifier(n_estimators=1000, criterion='gini',max_depth=10, random_state=33,n_jobs=-1)"
   ]
  },
  {
   "cell_type": "code",
   "execution_count": 61,
   "id": "8feeee43",
   "metadata": {},
   "outputs": [
    {
     "ename": "NameError",
     "evalue": "name 'RFModel_' is not defined",
     "output_type": "error",
     "traceback": [
      "\u001b[1;31m---------------------------------------------------------------------------\u001b[0m",
      "\u001b[1;31mNameError\u001b[0m                                 Traceback (most recent call last)",
      "\u001b[1;32m~\\AppData\\Local\\Temp\\ipykernel_9152\\4080886191.py\u001b[0m in \u001b[0;36m<module>\u001b[1;34m\u001b[0m\n\u001b[1;32m----> 1\u001b[1;33m \u001b[0mVotingClassifierModel\u001b[0m \u001b[1;33m=\u001b[0m \u001b[0mVotingClassifier\u001b[0m\u001b[1;33m(\u001b[0m\u001b[0mestimators\u001b[0m\u001b[1;33m=\u001b[0m\u001b[1;33m[\u001b[0m\u001b[1;33m(\u001b[0m\u001b[1;34m'RFModel'\u001b[0m\u001b[1;33m,\u001b[0m\u001b[0mRFModel_\u001b[0m\u001b[1;33m)\u001b[0m\u001b[1;33m,\u001b[0m\u001b[1;33m(\u001b[0m\u001b[1;34m'SVCModel'\u001b[0m\u001b[1;33m,\u001b[0m\u001b[0mSVCModel\u001b[0m\u001b[1;33m)\u001b[0m\u001b[1;33m]\u001b[0m\u001b[1;33m,\u001b[0m \u001b[0mvoting\u001b[0m\u001b[1;33m=\u001b[0m\u001b[1;34m'soft'\u001b[0m\u001b[1;33m)\u001b[0m\u001b[1;33m\u001b[0m\u001b[1;33m\u001b[0m\u001b[0m\n\u001b[0m",
      "\u001b[1;31mNameError\u001b[0m: name 'RFModel_' is not defined"
     ]
    }
   ],
   "source": [
    "VotingClassifierModel = VotingClassifier(estimators=[('RFModel',RFModel_),('SVCModel',SVCModel)], voting='soft')"
   ]
  },
  {
   "cell_type": "code",
   "execution_count": 62,
   "id": "b477f5ea",
   "metadata": {},
   "outputs": [
    {
     "data": {
      "text/html": [
       "<style>#sk-container-id-1 {color: black;}#sk-container-id-1 pre{padding: 0;}#sk-container-id-1 div.sk-toggleable {background-color: white;}#sk-container-id-1 label.sk-toggleable__label {cursor: pointer;display: block;width: 100%;margin-bottom: 0;padding: 0.3em;box-sizing: border-box;text-align: center;}#sk-container-id-1 label.sk-toggleable__label-arrow:before {content: \"▸\";float: left;margin-right: 0.25em;color: #696969;}#sk-container-id-1 label.sk-toggleable__label-arrow:hover:before {color: black;}#sk-container-id-1 div.sk-estimator:hover label.sk-toggleable__label-arrow:before {color: black;}#sk-container-id-1 div.sk-toggleable__content {max-height: 0;max-width: 0;overflow: hidden;text-align: left;background-color: #f0f8ff;}#sk-container-id-1 div.sk-toggleable__content pre {margin: 0.2em;color: black;border-radius: 0.25em;background-color: #f0f8ff;}#sk-container-id-1 input.sk-toggleable__control:checked~div.sk-toggleable__content {max-height: 200px;max-width: 100%;overflow: auto;}#sk-container-id-1 input.sk-toggleable__control:checked~label.sk-toggleable__label-arrow:before {content: \"▾\";}#sk-container-id-1 div.sk-estimator input.sk-toggleable__control:checked~label.sk-toggleable__label {background-color: #d4ebff;}#sk-container-id-1 div.sk-label input.sk-toggleable__control:checked~label.sk-toggleable__label {background-color: #d4ebff;}#sk-container-id-1 input.sk-hidden--visually {border: 0;clip: rect(1px 1px 1px 1px);clip: rect(1px, 1px, 1px, 1px);height: 1px;margin: -1px;overflow: hidden;padding: 0;position: absolute;width: 1px;}#sk-container-id-1 div.sk-estimator {font-family: monospace;background-color: #f0f8ff;border: 1px dotted black;border-radius: 0.25em;box-sizing: border-box;margin-bottom: 0.5em;}#sk-container-id-1 div.sk-estimator:hover {background-color: #d4ebff;}#sk-container-id-1 div.sk-parallel-item::after {content: \"\";width: 100%;border-bottom: 1px solid gray;flex-grow: 1;}#sk-container-id-1 div.sk-label:hover label.sk-toggleable__label {background-color: #d4ebff;}#sk-container-id-1 div.sk-serial::before {content: \"\";position: absolute;border-left: 1px solid gray;box-sizing: border-box;top: 0;bottom: 0;left: 50%;z-index: 0;}#sk-container-id-1 div.sk-serial {display: flex;flex-direction: column;align-items: center;background-color: white;padding-right: 0.2em;padding-left: 0.2em;position: relative;}#sk-container-id-1 div.sk-item {position: relative;z-index: 1;}#sk-container-id-1 div.sk-parallel {display: flex;align-items: stretch;justify-content: center;background-color: white;position: relative;}#sk-container-id-1 div.sk-item::before, #sk-container-id-1 div.sk-parallel-item::before {content: \"\";position: absolute;border-left: 1px solid gray;box-sizing: border-box;top: 0;bottom: 0;left: 50%;z-index: -1;}#sk-container-id-1 div.sk-parallel-item {display: flex;flex-direction: column;z-index: 1;position: relative;background-color: white;}#sk-container-id-1 div.sk-parallel-item:first-child::after {align-self: flex-end;width: 50%;}#sk-container-id-1 div.sk-parallel-item:last-child::after {align-self: flex-start;width: 50%;}#sk-container-id-1 div.sk-parallel-item:only-child::after {width: 0;}#sk-container-id-1 div.sk-dashed-wrapped {border: 1px dashed gray;margin: 0 0.4em 0.5em 0.4em;box-sizing: border-box;padding-bottom: 0.4em;background-color: white;}#sk-container-id-1 div.sk-label label {font-family: monospace;font-weight: bold;display: inline-block;line-height: 1.2em;}#sk-container-id-1 div.sk-label-container {text-align: center;}#sk-container-id-1 div.sk-container {/* jupyter's `normalize.less` sets `[hidden] { display: none; }` but bootstrap.min.css set `[hidden] { display: none !important; }` so we also need the `!important` here to be able to override the default hidden behavior on the sphinx rendered scikit-learn.org. See: https://github.com/scikit-learn/scikit-learn/issues/21755 */display: inline-block !important;position: relative;}#sk-container-id-1 div.sk-text-repr-fallback {display: none;}</style><div id=\"sk-container-id-1\" class=\"sk-top-container\"><div class=\"sk-text-repr-fallback\"><pre>RandomForestClassifier(max_depth=10, n_estimators=1000, n_jobs=-1,\n",
       "                       random_state=33)</pre><b>In a Jupyter environment, please rerun this cell to show the HTML representation or trust the notebook. <br />On GitHub, the HTML representation is unable to render, please try loading this page with nbviewer.org.</b></div><div class=\"sk-container\" hidden><div class=\"sk-item\"><div class=\"sk-estimator sk-toggleable\"><input class=\"sk-toggleable__control sk-hidden--visually\" id=\"sk-estimator-id-1\" type=\"checkbox\" checked><label for=\"sk-estimator-id-1\" class=\"sk-toggleable__label sk-toggleable__label-arrow\">RandomForestClassifier</label><div class=\"sk-toggleable__content\"><pre>RandomForestClassifier(max_depth=10, n_estimators=1000, n_jobs=-1,\n",
       "                       random_state=33)</pre></div></div></div></div></div>"
      ],
      "text/plain": [
       "RandomForestClassifier(max_depth=10, n_estimators=1000, n_jobs=-1,\n",
       "                       random_state=33)"
      ]
     },
     "execution_count": 62,
     "metadata": {},
     "output_type": "execute_result"
    }
   ],
   "source": [
    "RFModel.fit(X_train, y_train)"
   ]
  },
  {
   "cell_type": "code",
   "execution_count": 63,
   "id": "bc46c4ac",
   "metadata": {},
   "outputs": [
    {
     "data": {
      "text/plain": [
       "0.9993610223642172"
      ]
     },
     "execution_count": 63,
     "metadata": {},
     "output_type": "execute_result"
    }
   ],
   "source": [
    "RFModel.score(X_train, y_train)"
   ]
  },
  {
   "cell_type": "code",
   "execution_count": 64,
   "id": "0a72f98b",
   "metadata": {},
   "outputs": [
    {
     "data": {
      "text/plain": [
       "0.9636015325670498"
      ]
     },
     "execution_count": 64,
     "metadata": {},
     "output_type": "execute_result"
    }
   ],
   "source": [
    "RFModel.score(X_test, y_test)"
   ]
  },
  {
   "cell_type": "code",
   "execution_count": 65,
   "id": "6c44747c",
   "metadata": {},
   "outputs": [],
   "source": [
    "y_pre=RFModel.predict(X_test)"
   ]
  },
  {
   "cell_type": "code",
   "execution_count": 66,
   "id": "0994a554",
   "metadata": {},
   "outputs": [
    {
     "data": {
      "text/plain": [
       "array([5, 4, 1, 1, 0, 0, 1, 3, 6, 6], dtype=int64)"
      ]
     },
     "execution_count": 66,
     "metadata": {},
     "output_type": "execute_result"
    }
   ],
   "source": [
    "y_pre[:10]"
   ]
  },
  {
   "cell_type": "code",
   "execution_count": 67,
   "id": "33cec44b",
   "metadata": {},
   "outputs": [
    {
     "data": {
      "text/plain": [
       "1617    5\n",
       "1470    4\n",
       "289     1\n",
       "365     1\n",
       "391     0\n",
       "596     0\n",
       "424     2\n",
       "1075    3\n",
       "2083    6\n",
       "1889    6\n",
       "Name: NObeyesdad, dtype: int64"
      ]
     },
     "execution_count": 67,
     "metadata": {},
     "output_type": "execute_result"
    }
   ],
   "source": [
    "y_test[:10]"
   ]
  },
  {
   "cell_type": "markdown",
   "id": "b379427b",
   "metadata": {},
   "source": [
    "#### Model Evaluation "
   ]
  },
  {
   "cell_type": "code",
   "execution_count": 68,
   "id": "4f570b86",
   "metadata": {},
   "outputs": [],
   "source": [
    "cm=confusion_matrix(y_test,y_pre)"
   ]
  },
  {
   "cell_type": "code",
   "execution_count": 69,
   "id": "07a36666",
   "metadata": {},
   "outputs": [
    {
     "data": {
      "text/plain": [
       "array([[68,  0,  0,  0,  0,  0,  0],\n",
       "       [ 1, 61,  2,  0,  0,  0,  0],\n",
       "       [ 0,  7, 59,  4,  0,  0,  0],\n",
       "       [ 0,  2,  0, 77,  1,  0,  0],\n",
       "       [ 0,  0,  0,  0, 82,  0,  0],\n",
       "       [ 0,  0,  0,  0,  2, 76,  0],\n",
       "       [ 0,  0,  0,  0,  0,  0, 80]], dtype=int64)"
      ]
     },
     "execution_count": 69,
     "metadata": {},
     "output_type": "execute_result"
    }
   ],
   "source": [
    "cm"
   ]
  },
  {
   "cell_type": "code",
   "execution_count": 70,
   "id": "76cec10d",
   "metadata": {},
   "outputs": [],
   "source": [
    "ac=accuracy_score=accuracy_score(y_test, y_pre)"
   ]
  },
  {
   "cell_type": "code",
   "execution_count": 71,
   "id": "5f092347",
   "metadata": {},
   "outputs": [
    {
     "data": {
      "text/plain": [
       "0.9636015325670498"
      ]
     },
     "execution_count": 71,
     "metadata": {},
     "output_type": "execute_result"
    }
   ],
   "source": [
    "ac"
   ]
  },
  {
   "cell_type": "markdown",
   "id": "f50a7482",
   "metadata": {},
   "source": [
    "# Conclusion\n",
    "### Random forest classifier give higher accuracy than voting classifier.\n",
    "### But there is a little bit overfitting in Random forest classifier."
   ]
  }
 ],
 "metadata": {
  "kernelspec": {
   "display_name": "Python 3 (ipykernel)",
   "language": "python",
   "name": "python3"
  },
  "language_info": {
   "codemirror_mode": {
    "name": "ipython",
    "version": 3
   },
   "file_extension": ".py",
   "mimetype": "text/x-python",
   "name": "python",
   "nbconvert_exporter": "python",
   "pygments_lexer": "ipython3",
   "version": "3.9.13"
  }
 },
 "nbformat": 4,
 "nbformat_minor": 5
}
